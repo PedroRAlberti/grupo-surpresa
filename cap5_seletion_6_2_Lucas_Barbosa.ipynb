{
  "cells": [
    {
      "cell_type": "markdown",
      "metadata": {
        "id": "uMHLAGxQ_3Ef"
      },
      "source": [
        "## Introdução às Seleções"
      ]
    },
    {
      "cell_type": "markdown",
      "metadata": {
        "id": "bDv-TcVq_3Eg"
      },
      "source": [
        "Vamos começar com uma seleção básica: simplesmente clicar em algum ponto para realçá-lo. Usando o _dataset_ `cars`(carros), podemos iniciar com um _scatter plot_ de horsepower (cavalos de potência) x miles per gallon (milhas por galão), com uma codificação de cor para o número de cilindradas no carro por motor.\n",
        "\n",
        "Além disso, iremos criar uma instância de seleção definida sobre um _único valor_. Por definição, a seleção usa o click do mouse para determinar o valor de seleção. Para registrar uma seleção com um gráfico, teremos que adicioná-la usando o método `.add_selection()`.\n",
        "\n",
        "Uma vez que nossa seleção esteja bem definida, a usaremos como parâmetro para _codificações condicionais_, que aplicam uma codificação diferente caso o registo de dados esteja dentro ou fora da seleção. Por exemplo, considere o código a seguir:\n",
        "\n",
        "~~~ python\n",
        "color=alt.condition(selection, 'Cylinders:O', alt.value('grey')).legend(title='Cilindradas')\n",
        "~~~\n",
        "Esta definição de codificação indica que os pontos de dados contidos em `selection` devem ser coloridos de acordo com o `Cylinder` (cilindradas) field, enquanto dados não selecionados devem usar um `grey` (cinza) por defeito. Uma seleção vazia inclui _todos_ os pontos de dados, e assim inicialmente todos os pontos serão coloridos.\n",
        "\n",
        "_Tente clicar em diferentes pontos no gráfico abaixo. O que acontece?  (Clique no fundo para limpar o estado da seleção e voltar a uma seleção “vazia”.)_\n"
      ]
    },
    {
      "cell_type": "code",
      "execution_count": null,
      "metadata": {
        "id": "18xF8tcY_3Eg",
        "outputId": "9317d31b-4611-46c8-c15c-ff8a213550b6"
      },
      "outputs": [
        {
          "data": {
            "text/html": [
              "\n",
              "<div id=\"altair-viz-cb3e8c1437244aa8bf87fe1a2706f185\"></div>\n",
              "<script type=\"text/javascript\">\n",
              "  (function(spec, embedOpt){\n",
              "    let outputDiv = document.currentScript.previousElementSibling;\n",
              "    if (outputDiv.id !== \"altair-viz-cb3e8c1437244aa8bf87fe1a2706f185\") {\n",
              "      outputDiv = document.getElementById(\"altair-viz-cb3e8c1437244aa8bf87fe1a2706f185\");\n",
              "    }\n",
              "    const paths = {\n",
              "      \"vega\": \"https://cdn.jsdelivr.net/npm//vega@5?noext\",\n",
              "      \"vega-lib\": \"https://cdn.jsdelivr.net/npm//vega-lib?noext\",\n",
              "      \"vega-lite\": \"https://cdn.jsdelivr.net/npm//vega-lite@4.8.1?noext\",\n",
              "      \"vega-embed\": \"https://cdn.jsdelivr.net/npm//vega-embed@6?noext\",\n",
              "    };\n",
              "\n",
              "    function loadScript(lib) {\n",
              "      return new Promise(function(resolve, reject) {\n",
              "        var s = document.createElement('script');\n",
              "        s.src = paths[lib];\n",
              "        s.async = true;\n",
              "        s.onload = () => resolve(paths[lib]);\n",
              "        s.onerror = () => reject(`Error loading script: ${paths[lib]}`);\n",
              "        document.getElementsByTagName(\"head\")[0].appendChild(s);\n",
              "      });\n",
              "    }\n",
              "\n",
              "    function showError(err) {\n",
              "      outputDiv.innerHTML = `<div class=\"error\" style=\"color:red;\">${err}</div>`;\n",
              "      throw err;\n",
              "    }\n",
              "\n",
              "    function displayChart(vegaEmbed) {\n",
              "      vegaEmbed(outputDiv, spec, embedOpt)\n",
              "        .catch(err => showError(`Javascript Error: ${err.message}<br>This usually means there's a typo in your chart specification. See the javascript console for the full traceback.`));\n",
              "    }\n",
              "\n",
              "    if(typeof define === \"function\" && define.amd) {\n",
              "      requirejs.config({paths});\n",
              "      require([\"vega-embed\"], displayChart, err => showError(`Error loading script: ${err.message}`));\n",
              "    } else if (typeof vegaEmbed === \"function\") {\n",
              "      displayChart(vegaEmbed);\n",
              "    } else {\n",
              "      loadScript(\"vega\")\n",
              "        .then(() => loadScript(\"vega-lite\"))\n",
              "        .then(() => loadScript(\"vega-embed\"))\n",
              "        .catch(showError)\n",
              "        .then(() => displayChart(vegaEmbed));\n",
              "    }\n",
              "  })({\"config\": {\"view\": {\"continuousWidth\": 400, \"continuousHeight\": 300}}, \"data\": {\"url\": \"https://cdn.jsdelivr.net/npm/vega-datasets@1/data/cars.json\"}, \"mark\": \"circle\", \"encoding\": {\"color\": {\"condition\": {\"type\": \"ordinal\", \"field\": \"Cylinders\", \"selection\": \"selector001\"}, \"value\": \"grey\"}, \"opacity\": {\"condition\": {\"value\": 0.8, \"selection\": \"selector001\"}, \"value\": 0.1}, \"x\": {\"type\": \"quantitative\", \"field\": \"Horsepower\"}, \"y\": {\"type\": \"quantitative\", \"field\": \"Miles_per_Gallon\"}}, \"selection\": {\"selector001\": {\"type\": \"single\"}}, \"$schema\": \"https://vega.github.io/schema/vega-lite/v4.8.1.json\"}, {\"mode\": \"vega-lite\"});\n",
              "</script>"
            ],
            "text/plain": [
              "alt.Chart(...)"
            ]
          },
          "execution_count": 3,
          "metadata": {},
          "output_type": "execute_result"
        }
      ],
      "source": [
        "selection = alt.selection_single();\n",
        "\n",
        "alt.Chart(cars).mark_circle().add_selection(\n",
        "    selection\n",
        ").encode(\n",
        "    alt.X('Horsepower:Q', title = 'Cavalos de Potência'),\n",
        "    alt.Y('Miles_per_Gallon:Q', title = 'Milhas por Galão')\n",
        "    color=alt.condition(selection, 'Cylinders:O', alt.value('grey')).legend(title='Cilindradas'),\n",
        "    opacity=alt.condition(selection, alt.value(0.8), alt.value(0.1))\n",
        ")"
      ]
    },
    {
      "cell_type": "markdown",
      "metadata": {
        "id": "4YZrNWox_3Eg"
      },
      "source": [
        "Claro, destacar pontos de dados individuais, um de cada vez, não é particularmente interessante! No entanto, como veremos, as seleções de valor único fornecem um bloco de construção útil para interações mais poderosas. Além disso, as seleções de valor único são apenas um dos três tipos de seleção fornecidos pelo Altair:\n",
        "\n",
        "- `selection_single` - seleciona um único valor discreto, por padrão em eventos de clique.\n",
        "- `selection_multi` - seleciona múltiplos valores discretos. O primeiro valor é selecionado com o clique do mouse e os valores adicionais são alternados usando shift-click.\n",
        "- `selection_interval` - seleciona um intervalo contínuo de valores, iniciado pelo arrastar do mouse.\n",
        "\n",
        "Vamos comparar cada um destes tipos de seleção lado a lado. Para manter nosso código organizado, primeiro definiremos uma função (`plot`) que gera uma especificação de gráfico de dispersão como a acima. Podemos passar uma seleção para a função `plot` para que ela seja aplicada ao gráfico:\n"
      ]
    },
    {
      "cell_type": "code",
      "execution_count": null,
      "metadata": {
        "id": "QAgDOJ3j_3Eh"
      },
      "outputs": [],
      "source": [
        "def plot(selection):\n",
        "    return alt.Chart(cars).mark_circle().add_selection(\n",
        "        selection\n",
        "    ).encode(\n",
        "    alt.X('Horsepower:Q', title = 'Cavalos de Potência'),\n",
        "    alt.Y('Miles_per_Gallon:Q', title = 'Milhas por Galão')\n",
        "    color=alt.condition(selection, 'Cylinders:O', alt.value('grey')).legend(title='Cilindradas'),\n",
        "    opacity=alt.condition(selection, alt.value(0.8), alt.value(0.1))\n",
        ").properties(\n",
        "        width=240,\n",
        "        height=180\n",
        "    )"
      ]
    },
    {
      "cell_type": "markdown",
      "metadata": {
        "id": "F5hfQs_N_3Eh"
      },
      "source": [
        "Vamos utilizar a nossa função `plot` para criar três variantes de gráfico, uma por tipo de seleção.\n",
        "\n",
        "O primeiro gráfico (`single`) replica nosso exemplo anterior. O segundo gráfico (`multi`) suporta interações shift-click para alternar a inclusão de múltiplos pontos dentro da seleção. O terceiro gráfico (`interval`) gera uma região de seleção (ou _área de seleção_) ao arrastar o mouse. Uma vez criado, é possível arrastar a área de seleção para pontos diferentes ou rolar quando o cursor estiver dentro dessa área para dimensionar (zoom) seu tamanho.\n",
        "\n",
        "Experimente interagir com cada um dos gráficos abaixo!_\n"
      ]
    },
    {
      "cell_type": "code",
      "execution_count": null,
      "metadata": {
        "id": "utH3MMJ-_3Eh",
        "outputId": "71bffcaf-aec0-4385-a085-bfff977f87fb"
      },
      "outputs": [
        {
          "data": {
            "text/html": [
              "\n",
              "<div id=\"altair-viz-ffc8277c90264fe781f4d665622dc6b8\"></div>\n",
              "<script type=\"text/javascript\">\n",
              "  (function(spec, embedOpt){\n",
              "    let outputDiv = document.currentScript.previousElementSibling;\n",
              "    if (outputDiv.id !== \"altair-viz-ffc8277c90264fe781f4d665622dc6b8\") {\n",
              "      outputDiv = document.getElementById(\"altair-viz-ffc8277c90264fe781f4d665622dc6b8\");\n",
              "    }\n",
              "    const paths = {\n",
              "      \"vega\": \"https://cdn.jsdelivr.net/npm//vega@5?noext\",\n",
              "      \"vega-lib\": \"https://cdn.jsdelivr.net/npm//vega-lib?noext\",\n",
              "      \"vega-lite\": \"https://cdn.jsdelivr.net/npm//vega-lite@4.8.1?noext\",\n",
              "      \"vega-embed\": \"https://cdn.jsdelivr.net/npm//vega-embed@6?noext\",\n",
              "    };\n",
              "\n",
              "    function loadScript(lib) {\n",
              "      return new Promise(function(resolve, reject) {\n",
              "        var s = document.createElement('script');\n",
              "        s.src = paths[lib];\n",
              "        s.async = true;\n",
              "        s.onload = () => resolve(paths[lib]);\n",
              "        s.onerror = () => reject(`Error loading script: ${paths[lib]}`);\n",
              "        document.getElementsByTagName(\"head\")[0].appendChild(s);\n",
              "      });\n",
              "    }\n",
              "\n",
              "    function showError(err) {\n",
              "      outputDiv.innerHTML = `<div class=\"error\" style=\"color:red;\">${err}</div>`;\n",
              "      throw err;\n",
              "    }\n",
              "\n",
              "    function displayChart(vegaEmbed) {\n",
              "      vegaEmbed(outputDiv, spec, embedOpt)\n",
              "        .catch(err => showError(`Javascript Error: ${err.message}<br>This usually means there's a typo in your chart specification. See the javascript console for the full traceback.`));\n",
              "    }\n",
              "\n",
              "    if(typeof define === \"function\" && define.amd) {\n",
              "      requirejs.config({paths});\n",
              "      require([\"vega-embed\"], displayChart, err => showError(`Error loading script: ${err.message}`));\n",
              "    } else if (typeof vegaEmbed === \"function\") {\n",
              "      displayChart(vegaEmbed);\n",
              "    } else {\n",
              "      loadScript(\"vega\")\n",
              "        .then(() => loadScript(\"vega-lite\"))\n",
              "        .then(() => loadScript(\"vega-embed\"))\n",
              "        .catch(showError)\n",
              "        .then(() => displayChart(vegaEmbed));\n",
              "    }\n",
              "  })({\"config\": {\"view\": {\"continuousWidth\": 400, \"continuousHeight\": 300}}, \"hconcat\": [{\"mark\": \"circle\", \"encoding\": {\"color\": {\"condition\": {\"type\": \"ordinal\", \"field\": \"Cylinders\", \"selection\": \"selector002\"}, \"value\": \"grey\"}, \"opacity\": {\"condition\": {\"value\": 0.8, \"selection\": \"selector002\"}, \"value\": 0.1}, \"x\": {\"type\": \"quantitative\", \"field\": \"Horsepower\"}, \"y\": {\"type\": \"quantitative\", \"field\": \"Miles_per_Gallon\"}}, \"height\": 180, \"selection\": {\"selector002\": {\"type\": \"single\"}}, \"title\": \"Single (Click)\", \"width\": 240}, {\"mark\": \"circle\", \"encoding\": {\"color\": {\"condition\": {\"type\": \"ordinal\", \"field\": \"Cylinders\", \"selection\": \"selector003\"}, \"value\": \"grey\"}, \"opacity\": {\"condition\": {\"value\": 0.8, \"selection\": \"selector003\"}, \"value\": 0.1}, \"x\": {\"type\": \"quantitative\", \"field\": \"Horsepower\"}, \"y\": {\"type\": \"quantitative\", \"field\": \"Miles_per_Gallon\"}}, \"height\": 180, \"selection\": {\"selector003\": {\"type\": \"multi\"}}, \"title\": \"Multi (Shift-Click)\", \"width\": 240}, {\"mark\": \"circle\", \"encoding\": {\"color\": {\"condition\": {\"type\": \"ordinal\", \"field\": \"Cylinders\", \"selection\": \"selector004\"}, \"value\": \"grey\"}, \"opacity\": {\"condition\": {\"value\": 0.8, \"selection\": \"selector004\"}, \"value\": 0.1}, \"x\": {\"type\": \"quantitative\", \"field\": \"Horsepower\"}, \"y\": {\"type\": \"quantitative\", \"field\": \"Miles_per_Gallon\"}}, \"height\": 180, \"selection\": {\"selector004\": {\"type\": \"interval\"}}, \"title\": \"Interval (Drag)\", \"width\": 240}], \"data\": {\"url\": \"https://cdn.jsdelivr.net/npm/vega-datasets@1/data/cars.json\"}, \"$schema\": \"https://vega.github.io/schema/vega-lite/v4.8.1.json\"}, {\"mode\": \"vega-lite\"});\n",
              "</script>"
            ],
            "text/plain": [
              "alt.HConcatChart(...)"
            ]
          },
          "execution_count": 5,
          "metadata": {},
          "output_type": "execute_result"
        }
      ],
      "source": [
        "alt.hconcat(\n",
        "  plot(alt.selection_single()).properties(title='Single (Click)'),\n",
        "  plot(alt.selection_multi()).properties(title='Multi (Shift-Click)'),\n",
        "  plot(alt.selection_interval()).properties(title='Interval (Arraste)')\n",
        ").encode(\n",
        "    color=alt.Color('Cylinders:O', legend=alt.Legend(title='Cilindradas'))\n",
        ")\n"
      ]
    },
    {
      "cell_type": "markdown",
      "metadata": {
        "id": "x-5pmhHo_3Eh"
      },
      "source": [
        "Os exemplos acima utilizam interações predefinidas (clicar, clicar com a tecla shift, arrastar) para cada tipo de seleção. Podemos personalizar ainda mais as interações fornecendo especificações de eventos de entrada usando a [sintaxe do seletor de eventos Vega] (https://vega.github.io/vega/docs/event-streams/). Por exemplo, podemos modificar nossos gráficos `single` e `multi` para serem acionados em eventos `mouseover` (passar o mouse) em vez de eventos `click` (clique).\n",
        "\n",
        "_Mantenha pressionada a tecla shift no segundo gráfico para “pintar” com os dados!_"
      ]
    },
    {
      "cell_type": "code",
      "execution_count": null,
      "metadata": {
        "id": "GA-MHcVh_3Eh",
        "outputId": "be28f900-47a3-47f2-f57a-cb4b4a793b59"
      },
      "outputs": [
        {
          "data": {
            "text/html": [
              "\n",
              "<div id=\"altair-viz-cb0e067de7674f29bc705574caeadd89\"></div>\n",
              "<script type=\"text/javascript\">\n",
              "  (function(spec, embedOpt){\n",
              "    let outputDiv = document.currentScript.previousElementSibling;\n",
              "    if (outputDiv.id !== \"altair-viz-cb0e067de7674f29bc705574caeadd89\") {\n",
              "      outputDiv = document.getElementById(\"altair-viz-cb0e067de7674f29bc705574caeadd89\");\n",
              "    }\n",
              "    const paths = {\n",
              "      \"vega\": \"https://cdn.jsdelivr.net/npm//vega@5?noext\",\n",
              "      \"vega-lib\": \"https://cdn.jsdelivr.net/npm//vega-lib?noext\",\n",
              "      \"vega-lite\": \"https://cdn.jsdelivr.net/npm//vega-lite@4.8.1?noext\",\n",
              "      \"vega-embed\": \"https://cdn.jsdelivr.net/npm//vega-embed@6?noext\",\n",
              "    };\n",
              "\n",
              "    function loadScript(lib) {\n",
              "      return new Promise(function(resolve, reject) {\n",
              "        var s = document.createElement('script');\n",
              "        s.src = paths[lib];\n",
              "        s.async = true;\n",
              "        s.onload = () => resolve(paths[lib]);\n",
              "        s.onerror = () => reject(`Error loading script: ${paths[lib]}`);\n",
              "        document.getElementsByTagName(\"head\")[0].appendChild(s);\n",
              "      });\n",
              "    }\n",
              "\n",
              "    function showError(err) {\n",
              "      outputDiv.innerHTML = `<div class=\"error\" style=\"color:red;\">${err}</div>`;\n",
              "      throw err;\n",
              "    }\n",
              "\n",
              "    function displayChart(vegaEmbed) {\n",
              "      vegaEmbed(outputDiv, spec, embedOpt)\n",
              "        .catch(err => showError(`Javascript Error: ${err.message}<br>This usually means there's a typo in your chart specification. See the javascript console for the full traceback.`));\n",
              "    }\n",
              "\n",
              "    if(typeof define === \"function\" && define.amd) {\n",
              "      requirejs.config({paths});\n",
              "      require([\"vega-embed\"], displayChart, err => showError(`Error loading script: ${err.message}`));\n",
              "    } else if (typeof vegaEmbed === \"function\") {\n",
              "      displayChart(vegaEmbed);\n",
              "    } else {\n",
              "      loadScript(\"vega\")\n",
              "        .then(() => loadScript(\"vega-lite\"))\n",
              "        .then(() => loadScript(\"vega-embed\"))\n",
              "        .catch(showError)\n",
              "        .then(() => displayChart(vegaEmbed));\n",
              "    }\n",
              "  })({\"config\": {\"view\": {\"continuousWidth\": 400, \"continuousHeight\": 300}}, \"hconcat\": [{\"mark\": \"circle\", \"encoding\": {\"color\": {\"condition\": {\"type\": \"ordinal\", \"field\": \"Cylinders\", \"selection\": \"selector005\"}, \"value\": \"grey\"}, \"opacity\": {\"condition\": {\"value\": 0.8, \"selection\": \"selector005\"}, \"value\": 0.1}, \"x\": {\"type\": \"quantitative\", \"field\": \"Horsepower\"}, \"y\": {\"type\": \"quantitative\", \"field\": \"Miles_per_Gallon\"}}, \"height\": 180, \"selection\": {\"selector005\": {\"type\": \"single\", \"on\": \"mouseover\"}}, \"title\": \"Single (Mouseover)\", \"width\": 240}, {\"mark\": \"circle\", \"encoding\": {\"color\": {\"condition\": {\"type\": \"ordinal\", \"field\": \"Cylinders\", \"selection\": \"selector006\"}, \"value\": \"grey\"}, \"opacity\": {\"condition\": {\"value\": 0.8, \"selection\": \"selector006\"}, \"value\": 0.1}, \"x\": {\"type\": \"quantitative\", \"field\": \"Horsepower\"}, \"y\": {\"type\": \"quantitative\", \"field\": \"Miles_per_Gallon\"}}, \"height\": 180, \"selection\": {\"selector006\": {\"type\": \"multi\", \"on\": \"mouseover\"}}, \"title\": \"Multi (Shift-Mouseover)\", \"width\": 240}], \"data\": {\"url\": \"https://cdn.jsdelivr.net/npm/vega-datasets@1/data/cars.json\"}, \"$schema\": \"https://vega.github.io/schema/vega-lite/v4.8.1.json\"}, {\"mode\": \"vega-lite\"});\n",
              "</script>"
            ],
            "text/plain": [
              "alt.HConcatChart(...)"
            ]
          },
          "execution_count": 6,
          "metadata": {},
          "output_type": "execute_result"
        }
      ],
      "source": [
        "alt.hconcat(\n",
        "  plot(alt.selection_single(on='mouseover')).properties(title='Single (Mouseover)'),\n",
        "  plot(alt.selection_multi(on='mouseover')).properties(title='Multi (Shift-Mouseover)')\n",
        ").encode(\n",
        "    color=alt.Color('Cylinders:O', legend=alt.Legend(title='Cilindradas'))\n",
        ")"
      ]
    },
    {
      "cell_type": "markdown",
      "metadata": {
        "id": "xEol9biX_3Eh"
      },
      "source": [
        "Agora que cobrimos o básico das seleções com Altair, vamos fazer uma visita guiada às várias técnicas de interação possíveis!\n"
      ]
    }
  ],
  "metadata": {
    "kernelspec": {
      "display_name": "Python 3 (ipykernel)",
      "language": "python",
      "name": "python3"
    },
    "language_info": {
      "codemirror_mode": {
        "name": "ipython",
        "version": 3
      },
      "file_extension": ".py",
      "mimetype": "text/x-python",
      "name": "python",
      "nbconvert_exporter": "python",
      "pygments_lexer": "ipython3",
      "version": "3.11.1"
    },
    "colab": {
      "provenance": []
    }
  },
  "nbformat": 4,
  "nbformat_minor": 0
}