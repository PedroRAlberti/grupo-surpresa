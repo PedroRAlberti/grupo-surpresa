{
 "cells": [
  {
   "cell_type": "markdown",
   "metadata": {},
   "source": [
    "# Visualização Cartográfica\n",
    "\n",
    "_“A criação de mapas é um dos esforços intelectuais mais antigos da humanidade e também um dos mais complexos, com teoria científica, representação gráfica, fatos geográficos e considerações práticas misturados em uma variedade infinita de maneiras.”_ &mdash; [H. J. Steward](https://books.google.com/books?id=cVy1Ms43fFYC)\n",
    "\n",
    "Cartografia &ndash; o estudo e a prática da criação de mapas &ndash; tem uma rica história que abrange séculos de descobertas e desenvolvimento de design. A visualização cartográfica utiliza técnicas de mapeamento para representar dados contendo informações espaciais, como localizações, rotas ou trajetórias na superfície da Terra.\n",
    "\n",
    "<div style=\"float: right; margin-left: 1em; margin-top: 1em;\"><img width=\"300px\" src=\"https://gist.githubusercontent.com/jheer/c90d582ef5322582cf4960ec7689f6f6/raw/8dc92382a837ccc34c076f4ce7dd864e7893324a/latlon.png\" /></div>\n",
    "\n",
    "Aproximando a Terra como uma esfera, podemos denotar posições usando um sistema de coordenadas esféricas de _latitude_ (ângulo em graus ao norte ou sul do _equator_) e _longitude_ (ângulo em graus que especifica a posição leste-oeste). Nesse sistema, um _paralelo_ é um círculo de latitude constante, enquanto um _meridiano_ é um círculo de longitude constante. O [_meridiano principal_](https://en.wikipedia.org/wiki/Prime_meridian) está localizado a 0° de longitude e, por convenção, é definido como aquele que passa pelo Observatório Real de Greenwich, na Inglaterra.\n",
    "\n",
    "Para \"achatarmos\" uma esfera tridimensional em um plano bidimensional, é necessário aplicar uma [projeção](https://en.wikipedia.org/wiki/Map_projection) que converta pares de coordenadas (`longitude`, `latitude`) em coordenadas (`x`, `y`). Assim como as [escalas](https://github.com/uwdata/visualization-curriculum/blob/master/altair_scales_axes_legends.ipynb), as projeções transformam um domínio de dados (posição espacial) em um intervalo visual (posição em pixels). No entanto, enquanto as escalas que vimos até agora operam em um domínio unidimensional, as projeções cartográficas são, por natureza, bidimensionais.\n",
    "\n",
    "Neste notebook, apresentaremos os fundamentos da criação de mapas e da visualização de dados espaciais com Altair, incluindo:\n",
    "\n",
    "- Formatos de dados para representar elementos geográficos,\n",
    "- Técnicas de geovisualização, como mapas de pontos, símbolos e coropléticos, e\n",
    "- Uma revisão das projeções cartográficas mais comuns.\n",
    "\n",
    "_Este notebook faz parte do currículo de visualização de dados. [currículo de visualização de dados.](https://github.com/uwdata/visualization-curriculum)._"
   ]
  },
  {
   "cell_type": "code",
   "execution_count": 1,
   "metadata": {},
   "outputs": [],
   "source": [
    "import pandas as pd\n",
    "import altair as alt\n",
    "from vega_datasets import data"
   ]
  }
 ],
 "metadata": {
  "kernelspec": {
   "display_name": "Python 3",
   "language": "python",
   "name": "python3"
  },
  "language_info": {
   "codemirror_mode": {
    "name": "ipython",
    "version": 3
   },
   "file_extension": ".py",
   "mimetype": "text/x-python",
   "name": "python",
   "nbconvert_exporter": "python",
   "pygments_lexer": "ipython3",
   "version": "3.13.0"
  }
 },
 "nbformat": 4,
 "nbformat_minor": 4
}
