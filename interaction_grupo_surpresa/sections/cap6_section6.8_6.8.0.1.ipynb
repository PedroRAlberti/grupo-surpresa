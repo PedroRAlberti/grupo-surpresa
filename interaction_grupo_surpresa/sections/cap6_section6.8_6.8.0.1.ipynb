{
 "cells": [
  {
   "cell_type": "markdown",
   "metadata": {},
   "source": [
    "## Resumo"
   ]
  },
  {
   "cell_type": "markdown",
   "metadata": {},
   "source": [
    "Para mais informações sobre as opções de interação suportadas no Altair, consulte a [documentação sobre seleção interativa do Altair](https://altair-viz.github.io/user_guide/interactions.html). Para detalhes sobre a personalização de manipuladores de eventos, por exemplo, para compor múltiplas técnicas de interação ou oferecer suporte à entrada por toque em dispositivos móveis, veja a [documentação sobre seleção do Vega-Lite](https://vega.github.io/vega-lite/docs/selection.html).\n",
    "\n",
    "Interessado em aprender mais?\n",
    "\n",
    "- A abstração de _seleção_ foi introduzida no artigo [Vega-Lite: Uma Gramática de Gráficos Interativos](http://idl.cs.washington.edu/papers/vega-lite/), de Satyanarayan, Moritz, Wongsuphasawat, &amp; Heer.\n",
    "- O sistema PRIM-9 (para projeção, rotação, isolamento e mascaramento em até 9 dimensões) é uma das primeiras ferramentas de visualização interativa, desenvolvido no início dos anos 1970 por Fisherkeller, Tukey, &amp; Friedman. [Um vídeo de demonstração sobreviveu!](https://www.youtube.com/watch?v=B7XoW2qiFUA)\n",
    "- O conceito de _brushing &amp; linking_ foi formalizado por Becker, Cleveland, &amp; Wilks no artigo de 1987 [Gráficos Dinâmicos para a Análise de Dados](https://scholar.google.com/scholar?cluster=14817303117298653693).\n",
    "- Para um resumo abrangente das técnicas de interação para visualização, veja [Dinâmicas Interativas para Análise Visual](https://queue.acm.org/detail.cfm?id=2146416) de Heer &amp; Shneiderman.\n",
    "- Por fim, para um estudo sobre o que torna a interação eficaz, leia o clássico artigo [Interfaces de Manipulação Direta](https://scholar.google.com/scholar?cluster=15702972136892195211) de Hutchins, Hollan, &amp; Norman."
   ]
  },
  {
   "cell_type": "markdown",
   "metadata": {},
   "source": [
    "#### Apêndice: Na Representação do Tempo\n",
    "\n",
    "Anteriormente, observamos um pequeno aumento no número de filmes em 1969 ou 1970. De onde vem esse aumento? E por que 1969 _ou_ 1970? A resposta decorre de uma combinação de dados ausentes e da forma como o seu computador representa o tempo.\n",
    "\n",
    "Internamente, datas e horários são representados em relação à [época UNIX](https://en.wikipedia.org/wiki/Unix_time), na qual o tempo \"zero\" corresponde exatamente à meia-noite de 1º de janeiro de 1970 no [horário UTC](https://en.wikipedia.org/wiki/Coordinated_Universal_Time), que segue ao longo do [meridiano primário](https://en.wikipedia.org/wiki/Prime_meridian). Acontece que alguns filmes possuem datas de lançamento ausentes (`null`). Esses valores `null` são interpretados como tempo `0`, e, portanto, mapeados para 1º de janeiro de 1970 no horário UTC. Se você estiver nas Américas &ndash; e, portanto, em fusos horários \"anteriores\" &ndash;, esse instante exato corresponde a um horário anterior em 31 de dezembro de 1969 no seu fuso horário local. Por outro lado, se você estiver próximo ou a leste do meridiano principal, a data no seu horário local será 1º de janeiro de 1970.\n",
    "\n",
    "A lição? Sempre desconfie dos seus dados e esteja atento ao fato de que a forma como os dados são representados (seja como datas e horários, números de ponto flutuante, latitudes e longitudes, _etc._) pode, às vezes, introduzir artefatos que afetam a análise!"
   ]
  }
 ],
 "metadata": {
  "language_info": {
   "name": "python"
  }
 },
 "nbformat": 4,
 "nbformat_minor": 2
}
