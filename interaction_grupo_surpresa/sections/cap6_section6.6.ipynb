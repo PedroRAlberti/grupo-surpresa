{
  "nbformat": 4,
  "nbformat_minor": 0,
  "metadata": {
    "colab": {
      "provenance": []
    },
    "kernelspec": {
      "name": "python3",
      "display_name": "Python 3"
    },
    "language_info": {
      "name": "python"
    }
  },
  "cells": [
    {
      "cell_type": "markdown",
      "source": [
        "# 6.6. Detalhes sob demanda (Giovani)\n",
        "\n",
        "Uma vez que identificamos pontos de interesse em uma visualização, muitas vezes queremos saber mais sobre eles. _Detalhes sob demanda_ refere-se à capacidade de consultar interativamente mais informações sobre valores selecionados. As _tooltips_ são um meio útil para fornecer esses detalhes sob demanda. No entanto, as tooltips geralmente exibem informações apenas para um único ponto de dados por vez. Como podemos mostrar mais?\n",
        "\n",
        "O gráfico de dispersão das avaliações de filmes inclui vários outliers potencialmente interessantes, onde as classificações do Rotten Tomatoes e do IMDB divergem. Vamos criar um gráfico que nos permita selecionar interativamente pontos e exibir seus rótulos. Para ativar a consulta de filtro tanto na interação de passar o mouse quanto no clique, usaremos o [operador de composição do Altair](https://altair-viz.github.io/user_guide/interactions.html#composing-multiple-selections) `|` (\"ou\").\n",
        "\n",
        "_Passe o mouse sobre os pontos no gráfico de dispersão abaixo para ver um destaque e um rótulo de título. Pressione Shift e clique nos pontos para tornar as anotações mais persistentes e visualizar vários rótulos ao mesmo tempo. Quais filmes são amados pelos críticos do Rotten Tomatoes, mas não pelo público geral no IMDB (ou vice-versa)? Veja se consegue encontrar possíveis erros, como dois filmes diferentes com o mesmo nome que foram acidentalmente combinados!_"
      ],
      "metadata": {
        "id": "680zUInS2WzM"
      }
    },
    {
      "cell_type": "code",
      "source": [
        "hover = alt.selection_single(\n",
        "    on='mouseover',  # select on mouseover\n",
        "    nearest=True,    # select nearest point to mouse cursor\n",
        "    empty='none'     # empty selection should match nothing\n",
        ")\n",
        "\n",
        "click = alt.selection_multi(\n",
        "    empty='none' # empty selection matches no points\n",
        ")\n",
        "\n",
        "# scatter plot encodings shared by all marks\n",
        "plot = alt.Chart().mark_circle().encode(\n",
        "    x='Rotten_Tomatoes_Rating:Q',\n",
        "    y='IMDB_Rating:Q'\n",
        ")\n",
        "\n",
        "# shared base for new layers\n",
        "base = plot.transform_filter(\n",
        "    hover | click # filter to points in either selection\n",
        ")\n",
        "\n",
        "# layer scatter plot points, halo annotations, and title labels\n",
        "alt.layer(\n",
        "    plot.add_selection(hover).add_selection(click),\n",
        "    base.mark_point(size=100, stroke='firebrick', strokeWidth=1),\n",
        "    base.mark_text(dx=4, dy=-8, align='right', stroke='white', strokeWidth=2).encode(text='Title:N'),\n",
        "    base.mark_text(dx=4, dy=-8, align='right').encode(text='Title:N'),\n",
        "    data=movies\n",
        ").properties(\n",
        "    width=600,\n",
        "    height=450\n",
        ")"
      ],
      "metadata": {
        "id": "wPMkS7Lo3Alq"
      },
      "execution_count": null,
      "outputs": []
    },
    {
      "cell_type": "markdown",
      "source": [
        "\n",
        "O exemplo acima adiciona três novas camadas ao gráfico de dispersão: uma  anotação circular, texto branco para fornecer um fundo legível, e texto preto exibindo o título do filme. Além disso, esse exemplo usa duas seleções em conjunto:\n",
        "\n",
        "1. Uma seleção única (`hover`), que inclui `nearest=True` para selecionar automaticamente o ponto de dados mais próximo conforme o mouse se move.\n",
        "2. Uma seleção múltipla (`click`), que permite criar seleções persistentes usando Shift + clique.\n",
        "\n",
        "\n",
        "\n",
        "Ambas as seleções incluem a configuração `empty='none'` para indicar que nenhum ponto deve ser incluído se a seleção estiver vazia. Essas seleções são então combinadas em um único predicado de filtro — o operador lógico _ou_ entre `hover` e `click` — para incluir os pontos pertencentes a _qualquer uma_ das seleções. Esse predicado é usado para filtrar as novas camadas e exibir anotações e rótulos apenas para os pontos selecionados.\n",
        "\n",
        "Usando seleções e camadas, podemos criar diversos designs para exibir detalhes sob demanda! Por exemplo, aqui está uma série temporal em escala logarítmica com os preços de ações de tecnologia, anotada com uma linha-guia e rótulos para a data mais próxima do cursor do mouse:"
      ],
      "metadata": {
        "id": "bHcs8_-H2qvE"
      }
    },
    {
      "cell_type": "code",
      "source": [
        "# select a point for which to provide details-on-demand\n",
        "label = alt.selection_single(\n",
        "    encodings=['x'], # limit selection to x-axis value\n",
        "    on='mouseover',  # select on mouseover events\n",
        "    nearest=True,    # select data point nearest the cursor\n",
        "    empty='none'     # empty selection includes no data points\n",
        ")\n",
        "\n",
        "# define our base line chart of stock prices\n",
        "base = alt.Chart().mark_line().encode(\n",
        "    alt.X('date:T'),\n",
        "    alt.Y('price:Q', scale=alt.Scale(type='log')),\n",
        "    alt.Color('symbol:N')\n",
        ")\n",
        "\n",
        "alt.layer(\n",
        "    base, # base line chart\n",
        "\n",
        "    # add a rule mark to serve as a guide line\n",
        "    alt.Chart().mark_rule(color='#aaa').encode(\n",
        "        x='date:T'\n",
        "    ).transform_filter(label),\n",
        "\n",
        "    # add circle marks for selected time points, hide unselected points\n",
        "    base.mark_circle().encode(\n",
        "        opacity=alt.condition(label, alt.value(1), alt.value(0))\n",
        "    ).add_selection(label),\n",
        "\n",
        "    # add white stroked text to provide a legible background for labels\n",
        "    base.mark_text(align='left', dx=5, dy=-5, stroke='white', strokeWidth=2).encode(\n",
        "        text='price:Q'\n",
        "    ).transform_filter(label),\n",
        "\n",
        "    # add text labels for stock prices\n",
        "    base.mark_text(align='left', dx=5, dy=-5).encode(\n",
        "        text='price:Q'\n",
        "    ).transform_filter(label),\n",
        "\n",
        "    data=stocks\n",
        ").properties(\n",
        "    width=700,\n",
        "    height=400\n",
        ")"
      ],
      "metadata": {
        "id": "PCnB4Dwn2dt7"
      },
      "execution_count": null,
      "outputs": []
    },
    {
      "cell_type": "markdown",
      "source": [
        "_Colocando em prática o que aprendemos até agora: você consegue modificar o gráfico de dispersão de filmes acima (aquele com consulta dinâmica ao longo dos anos) para incluir uma marca de regra que exiba a média das avaliações do IMDB (ou Rotten Tomatoes) dentro do intervalo de anos selecionado?_"
      ],
      "metadata": {
        "id": "0wPLPVrT2enY"
      }
    }
  ]
}