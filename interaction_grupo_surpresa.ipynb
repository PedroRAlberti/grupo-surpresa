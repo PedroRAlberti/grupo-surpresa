{
 "cells": [
  {
   "cell_type": "markdown",
   "id": "2bebc909",
   "metadata": {
    "id": "B50aahmNY9jQ"
   },
   "source": [
    "# 6. Interação\n",
    "\n",
    "_\"Um gráfico não é 'desenhado' de uma vez por todas; mas sim 'construído' e reconstruído até que revele todas as relações constituídas pela interação dos dados. As melhores operações gráficas são aquelas performadas pelo próprio tomador de decisões.\"_ — [Jacques Bertin](https://books.google.com/books?id=csqX_xnm4tcC)\n",
    "\n",
    "A visualização fornece formas poderosas de analisar os dados. Uma única imagem, no entanto, oferece respostas para, na melhor das hipóteses, um punhado de perguntas. Através da *interação* podemos transformar imagens estáticas em ferramentas para exploração: destacando pontos de interesse, ampliando para revelar padrões refinados e vinculando várias visualizações para explorar relacionamentos multidimensionais.\n",
    "\n",
    "No cerne da interação está a noção de *seleção*: um meio de indicar ao computador quais elementos ou regiões nos interessam. Por exemplo, podemos passar o mouse sobre um ponto, clicar em múltiplas marcas ou desenhar um retângulo delimitante ao redor de uma região para destacar subconjuntos de dados para análise mais aprofundada.\n",
    "\n",
    "Junto às codificações visuais e transformações de dados, o Altair oferece uma abstração de *seleção* para interações de autoria. Essas seleções abrangem três aspectos:\n",
    "\n",
    "1. Manipulação de eventos de entrada para selecionar pontos ou regiões de interesse, como movimentação do mouse, cliques, arrastos, rolagens e toques.\n",
    "\n",
    "2. Generalizar a partir da entrada para formular uma regra de seleção (ou [*predicado*](https://en.wikipedia.org/wiki/Predicate_%28mathematical_logic%29)) que determine se um registro está ou não dentro de uma seleção.\n",
    "\n",
    "3. Usar o predicado de seleção para configurar dinamicamente uma visualização ao aplicar _codificações condicionais_, _transformações de filtro_ ou _domínios de escala_.\n",
    "\n",
    "Esse notebook introduz seleções interativas e explora como utilizá-las para realizar uma variedade de técnicas de interação, tais quais consultas dinâmicas, panorâmica e zoom, detalhes sob demanda, pincelamento e vinculação.\n",
    "\n",
    "*Esse notebook é parte do [currículo de visualização de dados](https://github.com/uwdata/visualization-curriculum).*\n"
   ]
  },
  {
   "cell_type": "code",
   "execution_count": 1,
   "id": "3cf7c703",
   "metadata": {
    "id": "a7hgOAttY9jV"
   },
   "outputs": [],
   "source": [
    "import pandas as pd\n",
    "import altair as alt"
   ]
  },
  {
   "cell_type": "markdown",
   "id": "7335ae09",
   "metadata": {
    "id": "AVYu59eUY9jY"
   },
   "source": [
    "# 6.1. Conjuntos de Dados\n",
    "\n",
    "Vamos visualizar uma variedade de conjuntos de dados da coleção [vega-datasets](https://github.com/vega/vega-datasets):\n",
    "- Um conjunto de dados sobre carros (`cars`) da década de 1970 e início da década de 1980;\n",
    "- Um conjunto de dados sobre filmes (`movies`), previamente utilizado no notebook de [Transformação de Dados](https://github.com/uwdata/visualization-curriculum/blob/master/altair_data_transformation.ipynb);\n",
    "- Um conjunto de dados contendo dez anos de preços de ações do [S&P 500](https://en.wikipedia.org/wiki/S%26P_500) (`sp500`);\n",
    "- Um conjunto de dados sobre ações (`stocks`) de companhias de tecnologia;\n",
    "- Um conjunto de dados sobre voos (`flights`), incluindo horário de partida, distância e atraso de chegada."
   ]
  },
  {
   "cell_type": "code",
   "execution_count": 2,
   "id": "c2305188",
   "metadata": {
    "id": "GSngXymlY9ja"
   },
   "outputs": [],
   "source": [
    "cars = 'https://cdn.jsdelivr.net/npm/vega-datasets@1/data/cars.json'\n",
    "movies = 'https://cdn.jsdelivr.net/npm/vega-datasets@1/data/movies.json'\n",
    "sp500 = 'https://cdn.jsdelivr.net/npm/vega-datasets@1/data/sp500.csv'\n",
    "stocks = 'https://cdn.jsdelivr.net/npm/vega-datasets@1/data/stocks.csv'\n",
    "flights = 'https://cdn.jsdelivr.net/npm/vega-datasets@1/data/flights-5k.json'"
   ]
  },
  {
   "cell_type": "markdown",
   "id": "bd2e7446",
   "metadata": {
    "id": "g5aOy0YbY9jc"
   },
   "source": [
    "# 6.2. Introduzindo Seleções\n",
    "\n",
    "Vamos começar com uma seleção básica: simplesmente clicando em um ponto para destacá-lo. Utilizando o conjunto de dados `cars`, vamos começar com um gráfico de dispersão de cavalos de potência versus milhas por galão, com uma codificação de cor para o número de cilindros no motor do carro.\n",
    "\n",
    "Ademais, criaremos uma instância de seleção chamando `alt.selection_single()`, indicando que queremos uma seleção definida por um *único valor*. Por padrão, a seleção utiliza um clique de mouse para determinar o valor selecionado. Para registrar a seleção com um gráfico, devemos adicionar isso usando o método `.add_selection()`.\n",
    "\n",
    "Uma  vez que nossa seleção foi definida, podemos utilizá-la como um parâmetro para *codificações condicionais*, que aplicam diferentes codificações dependendo se um registro de dados está dentro ou fora da seleção. Por exemplo, considere o seguinte trecho de código:\n",
    "\n",
    "~~~ python\n",
    "color=alt.condition(selection, 'Cylinders:O', alt.value('grey'))\n",
    "~~~"
   ]
  },
  {
   "cell_type": "markdown",
   "id": "dbbf2cbb",
   "metadata": {
    "id": "WqqMh49DY9jf"
   },
   "source": [
    "Essa definição de codificação indica que pontos contidos em `selection` deveriam ser coloridos de acordo com o campo `Cylinder`, enquanto pontos não selecionados deveriam ser coloridos por uma cor padrão `grey` (cinza). Uma seleção vazia inclui *todos* os pontos, e então inicialmente todos os pontos serão coloridos.\n",
    "\n",
    "*Tente clicar em diferentes pontos no gráfico abaixo. O que acontece? (Clique no fundo para limpar o estado de seleção e retornar a uma seleção \"vazia\")*"
   ]
  },
  {
   "cell_type": "code",
   "execution_count": 4,
   "id": "91691713",
   "metadata": {
    "colab": {
     "base_uri": "https://localhost:8080/",
     "height": 472
    },
    "id": "1fceyRlQY9jh",
    "outputId": "3d8ec17f-b0c9-4a69-fc8c-7f9dc81db16f"
   },
   "outputs": [
    {
     "name": "stderr",
     "output_type": "stream",
     "text": [
      "C:\\Users\\elian\\AppData\\Local\\Temp\\ipykernel_29920\\1559093682.py:1: AltairDeprecationWarning: \n",
      "Deprecated since `altair=5.0.0`. Use selection_point instead.\n",
      "  selection = alt.selection_single();\n",
      "C:\\Users\\elian\\AppData\\Local\\Temp\\ipykernel_29920\\1559093682.py:3: AltairDeprecationWarning: \n",
      "Deprecated since `altair=5.0.0`. Use add_params instead.\n",
      "  alt.Chart(cars).mark_circle().add_selection(\n"
     ]
    },
    {
     "data": {
      "text/html": [
       "\n",
       "<style>\n",
       "  #altair-viz-9e81f7867c3f4cfaa1d10afe4987761d.vega-embed {\n",
       "    width: 100%;\n",
       "    display: flex;\n",
       "  }\n",
       "\n",
       "  #altair-viz-9e81f7867c3f4cfaa1d10afe4987761d.vega-embed details,\n",
       "  #altair-viz-9e81f7867c3f4cfaa1d10afe4987761d.vega-embed details summary {\n",
       "    position: relative;\n",
       "  }\n",
       "</style>\n",
       "<div id=\"altair-viz-9e81f7867c3f4cfaa1d10afe4987761d\"></div>\n",
       "<script type=\"text/javascript\">\n",
       "  var VEGA_DEBUG = (typeof VEGA_DEBUG == \"undefined\") ? {} : VEGA_DEBUG;\n",
       "  (function(spec, embedOpt){\n",
       "    let outputDiv = document.currentScript.previousElementSibling;\n",
       "    if (outputDiv.id !== \"altair-viz-9e81f7867c3f4cfaa1d10afe4987761d\") {\n",
       "      outputDiv = document.getElementById(\"altair-viz-9e81f7867c3f4cfaa1d10afe4987761d\");\n",
       "    }\n",
       "\n",
       "    const paths = {\n",
       "      \"vega\": \"https://cdn.jsdelivr.net/npm/vega@5?noext\",\n",
       "      \"vega-lib\": \"https://cdn.jsdelivr.net/npm/vega-lib?noext\",\n",
       "      \"vega-lite\": \"https://cdn.jsdelivr.net/npm/vega-lite@5.20.1?noext\",\n",
       "      \"vega-embed\": \"https://cdn.jsdelivr.net/npm/vega-embed@6?noext\",\n",
       "    };\n",
       "\n",
       "    function maybeLoadScript(lib, version) {\n",
       "      var key = `${lib.replace(\"-\", \"\")}_version`;\n",
       "      return (VEGA_DEBUG[key] == version) ?\n",
       "        Promise.resolve(paths[lib]) :\n",
       "        new Promise(function(resolve, reject) {\n",
       "          var s = document.createElement('script');\n",
       "          document.getElementsByTagName(\"head\")[0].appendChild(s);\n",
       "          s.async = true;\n",
       "          s.onload = () => {\n",
       "            VEGA_DEBUG[key] = version;\n",
       "            return resolve(paths[lib]);\n",
       "          };\n",
       "          s.onerror = () => reject(`Error loading script: ${paths[lib]}`);\n",
       "          s.src = paths[lib];\n",
       "        });\n",
       "    }\n",
       "\n",
       "    function showError(err) {\n",
       "      outputDiv.innerHTML = `<div class=\"error\" style=\"color:red;\">${err}</div>`;\n",
       "      throw err;\n",
       "    }\n",
       "\n",
       "    function displayChart(vegaEmbed) {\n",
       "      vegaEmbed(outputDiv, spec, embedOpt)\n",
       "        .catch(err => showError(`Javascript Error: ${err.message}<br>This usually means there's a typo in your chart specification. See the javascript console for the full traceback.`));\n",
       "    }\n",
       "\n",
       "    if(typeof define === \"function\" && define.amd) {\n",
       "      requirejs.config({paths});\n",
       "      let deps = [\"vega-embed\"];\n",
       "      require(deps, displayChart, err => showError(`Error loading script: ${err.message}`));\n",
       "    } else {\n",
       "      maybeLoadScript(\"vega\", \"5\")\n",
       "        .then(() => maybeLoadScript(\"vega-lite\", \"5.20.1\"))\n",
       "        .then(() => maybeLoadScript(\"vega-embed\", \"6\"))\n",
       "        .catch(showError)\n",
       "        .then(() => displayChart(vegaEmbed));\n",
       "    }\n",
       "  })({\"config\": {\"view\": {\"continuousWidth\": 300, \"continuousHeight\": 300}}, \"data\": {\"url\": \"https://cdn.jsdelivr.net/npm/vega-datasets@1/data/cars.json\"}, \"mark\": {\"type\": \"circle\"}, \"encoding\": {\"color\": {\"condition\": {\"param\": \"param_1\", \"field\": \"Cylinders\", \"type\": \"ordinal\"}, \"value\": \"grey\"}, \"opacity\": {\"condition\": {\"param\": \"param_1\", \"value\": 0.8}, \"value\": 0.1}, \"x\": {\"field\": \"Horsepower\", \"type\": \"quantitative\"}, \"y\": {\"field\": \"Miles_per_Gallon\", \"type\": \"quantitative\"}}, \"params\": [{\"name\": \"param_1\", \"select\": {\"type\": \"point\"}}], \"$schema\": \"https://vega.github.io/schema/vega-lite/v5.20.1.json\"}, {\"mode\": \"vega-lite\"});\n",
       "</script>"
      ],
      "text/plain": [
       "alt.Chart(...)"
      ]
     },
     "execution_count": 4,
     "metadata": {},
     "output_type": "execute_result"
    }
   ],
   "source": [
    "selection = alt.selection_single();\n",
    "\n",
    "alt.Chart(cars).mark_circle().add_selection(\n",
    "    selection\n",
    ").encode(\n",
    "    x='Horsepower:Q',\n",
    "    y='Miles_per_Gallon:Q',\n",
    "    color=alt.condition(selection, 'Cylinders:O', alt.value('grey')),\n",
    "    opacity=alt.condition(selection, alt.value(0.8), alt.value(0.1))\n",
    ")"
   ]
  },
  {
   "cell_type": "markdown",
   "id": "3d291429",
   "metadata": {
    "id": "cPy3iq0mY9jk"
   },
   "source": [
    "É claro, destacar pontos individuais um a um não é particularmente animador! Como veremos, no entanto, seleções de valores individuais fornecem um útil bloco de construção para interações mais poderosas. Ademais, seleções de valores individuais são apenas um dos três tipos fornecidos pelo Altair:\n",
    "\n",
    "- `selection_single` - seleciona um único valor discreto, por padrão em eventos de clique.\n",
    "- `selection_multi` - seleciona múltiplos valores discretos. O primeiro valor é selecionado por clique de mouse e valores adicionais são alternados usando shift-click.\n",
    "- `selection_interval` - seleciona uma gama contínua de valores, inicialmente pelo arrastar do mouse.\n",
    "\n",
    "Vamos comparar cada um dos tipos de seleções lado a lado. Para manter nosso código compacto vamos primeiro definir uma função (`plot`) que gera uma especificação para gráficos de dispersão assim como o exemplo acima. Podemos passar uma seleção para a função `plot` para aplicá-la ao gráfico:"
   ]
  },
  {
   "cell_type": "code",
   "execution_count": 7,
   "id": "1ab2ca20",
   "metadata": {
    "id": "z3CAu3zIY9jm"
   },
   "outputs": [],
   "source": [
    "def plot(selection):\n",
    "    return alt.Chart(cars).mark_circle().add_selection(\n",
    "        selection\n",
    "    ).encode(\n",
    "        x='Horsepower:Q',\n",
    "        y='Miles_per_Gallon:Q',\n",
    "        color=alt.condition(selection, 'Cylinders:O', alt.value('grey')),\n",
    "        opacity=alt.condition(selection, alt.value(0.8), alt.value(0.1))\n",
    "    ).properties(\n",
    "        width=240,\n",
    "        height=180\n",
    "    )"
   ]
  },
  {
   "cell_type": "markdown",
   "id": "8d57761f",
   "metadata": {
    "id": "jKh2ZdMRY9jn"
   },
   "source": [
    "Vamos usar a nossa função `plot` para criar três gráficos variantes, um por tipo de seleção.\n",
    "\n",
    "O primeiro gráfico (`single`) replica nosso exemplo anterior. O segundo gráfico (`multi`) suporta interações shift-click para alternar inclusão de múltiplos pontos dentro da seleção. O terceiro gráfico (`interval`) gera uma região de seleção (ou *pincel*) ao arrastar o mouse. Uma vez criado, você pode arrastar o pincel para selecionar diferentes pontos ou rolar quando o cursor estiver dentro do mesmo para dimensionar (ampliar) o tamanho do pincel.\n",
    "\n",
    "*Tente interagir com cada um dos gráficos abaixo!*"
   ]
  },
  {
   "cell_type": "code",
   "execution_count": 8,
   "id": "cb559495",
   "metadata": {
    "colab": {
     "base_uri": "https://localhost:8080/",
     "height": 423
    },
    "id": "0kxZkXkeY9jp",
    "outputId": "8433432f-13da-460c-bf4f-1122bacc85d6"
   },
   "outputs": [
    {
     "name": "stderr",
     "output_type": "stream",
     "text": [
      "C:\\Users\\elian\\AppData\\Local\\Temp\\ipykernel_29920\\2299552586.py:2: AltairDeprecationWarning: \n",
      "Deprecated since `altair=5.0.0`. Use selection_point instead.\n",
      "  plot(alt.selection_single()).properties(title='Single (Click)'),\n",
      "C:\\Users\\elian\\AppData\\Local\\Temp\\ipykernel_29920\\1277325702.py:2: AltairDeprecationWarning: \n",
      "Deprecated since `altair=5.0.0`. Use add_params instead.\n",
      "  return alt.Chart(cars).mark_circle().add_selection(\n",
      "C:\\Users\\elian\\AppData\\Local\\Temp\\ipykernel_29920\\2299552586.py:3: AltairDeprecationWarning: \n",
      "Deprecated since `altair=5.0.0`. Use selection_point instead.\n",
      "  plot(alt.selection_multi()).properties(title='Multi (Shift-Click)'),\n"
     ]
    },
    {
     "data": {
      "text/html": [
       "\n",
       "<style>\n",
       "  #altair-viz-0fdec329217d499dbc9e04ca9017d304.vega-embed {\n",
       "    width: 100%;\n",
       "    display: flex;\n",
       "  }\n",
       "\n",
       "  #altair-viz-0fdec329217d499dbc9e04ca9017d304.vega-embed details,\n",
       "  #altair-viz-0fdec329217d499dbc9e04ca9017d304.vega-embed details summary {\n",
       "    position: relative;\n",
       "  }\n",
       "</style>\n",
       "<div id=\"altair-viz-0fdec329217d499dbc9e04ca9017d304\"></div>\n",
       "<script type=\"text/javascript\">\n",
       "  var VEGA_DEBUG = (typeof VEGA_DEBUG == \"undefined\") ? {} : VEGA_DEBUG;\n",
       "  (function(spec, embedOpt){\n",
       "    let outputDiv = document.currentScript.previousElementSibling;\n",
       "    if (outputDiv.id !== \"altair-viz-0fdec329217d499dbc9e04ca9017d304\") {\n",
       "      outputDiv = document.getElementById(\"altair-viz-0fdec329217d499dbc9e04ca9017d304\");\n",
       "    }\n",
       "\n",
       "    const paths = {\n",
       "      \"vega\": \"https://cdn.jsdelivr.net/npm/vega@5?noext\",\n",
       "      \"vega-lib\": \"https://cdn.jsdelivr.net/npm/vega-lib?noext\",\n",
       "      \"vega-lite\": \"https://cdn.jsdelivr.net/npm/vega-lite@5.20.1?noext\",\n",
       "      \"vega-embed\": \"https://cdn.jsdelivr.net/npm/vega-embed@6?noext\",\n",
       "    };\n",
       "\n",
       "    function maybeLoadScript(lib, version) {\n",
       "      var key = `${lib.replace(\"-\", \"\")}_version`;\n",
       "      return (VEGA_DEBUG[key] == version) ?\n",
       "        Promise.resolve(paths[lib]) :\n",
       "        new Promise(function(resolve, reject) {\n",
       "          var s = document.createElement('script');\n",
       "          document.getElementsByTagName(\"head\")[0].appendChild(s);\n",
       "          s.async = true;\n",
       "          s.onload = () => {\n",
       "            VEGA_DEBUG[key] = version;\n",
       "            return resolve(paths[lib]);\n",
       "          };\n",
       "          s.onerror = () => reject(`Error loading script: ${paths[lib]}`);\n",
       "          s.src = paths[lib];\n",
       "        });\n",
       "    }\n",
       "\n",
       "    function showError(err) {\n",
       "      outputDiv.innerHTML = `<div class=\"error\" style=\"color:red;\">${err}</div>`;\n",
       "      throw err;\n",
       "    }\n",
       "\n",
       "    function displayChart(vegaEmbed) {\n",
       "      vegaEmbed(outputDiv, spec, embedOpt)\n",
       "        .catch(err => showError(`Javascript Error: ${err.message}<br>This usually means there's a typo in your chart specification. See the javascript console for the full traceback.`));\n",
       "    }\n",
       "\n",
       "    if(typeof define === \"function\" && define.amd) {\n",
       "      requirejs.config({paths});\n",
       "      let deps = [\"vega-embed\"];\n",
       "      require(deps, displayChart, err => showError(`Error loading script: ${err.message}`));\n",
       "    } else {\n",
       "      maybeLoadScript(\"vega\", \"5\")\n",
       "        .then(() => maybeLoadScript(\"vega-lite\", \"5.20.1\"))\n",
       "        .then(() => maybeLoadScript(\"vega-embed\", \"6\"))\n",
       "        .catch(showError)\n",
       "        .then(() => displayChart(vegaEmbed));\n",
       "    }\n",
       "  })({\"config\": {\"view\": {\"continuousWidth\": 300, \"continuousHeight\": 300}}, \"hconcat\": [{\"mark\": {\"type\": \"circle\"}, \"encoding\": {\"color\": {\"condition\": {\"param\": \"param_5\", \"field\": \"Cylinders\", \"type\": \"ordinal\"}, \"value\": \"grey\"}, \"opacity\": {\"condition\": {\"param\": \"param_5\", \"value\": 0.8}, \"value\": 0.1}, \"x\": {\"field\": \"Horsepower\", \"type\": \"quantitative\"}, \"y\": {\"field\": \"Miles_per_Gallon\", \"type\": \"quantitative\"}}, \"height\": 180, \"name\": \"view_4\", \"title\": \"Single (Click)\", \"width\": 240}, {\"mark\": {\"type\": \"circle\"}, \"encoding\": {\"color\": {\"condition\": {\"param\": \"param_6\", \"field\": \"Cylinders\", \"type\": \"ordinal\"}, \"value\": \"grey\"}, \"opacity\": {\"condition\": {\"param\": \"param_6\", \"value\": 0.8}, \"value\": 0.1}, \"x\": {\"field\": \"Horsepower\", \"type\": \"quantitative\"}, \"y\": {\"field\": \"Miles_per_Gallon\", \"type\": \"quantitative\"}}, \"height\": 180, \"name\": \"view_5\", \"title\": \"Multi (Shift-Click)\", \"width\": 240}, {\"mark\": {\"type\": \"circle\"}, \"encoding\": {\"color\": {\"condition\": {\"param\": \"param_7\", \"field\": \"Cylinders\", \"type\": \"ordinal\"}, \"value\": \"grey\"}, \"opacity\": {\"condition\": {\"param\": \"param_7\", \"value\": 0.8}, \"value\": 0.1}, \"x\": {\"field\": \"Horsepower\", \"type\": \"quantitative\"}, \"y\": {\"field\": \"Miles_per_Gallon\", \"type\": \"quantitative\"}}, \"height\": 180, \"name\": \"view_6\", \"title\": \"Interval (Drag)\", \"width\": 240}], \"data\": {\"url\": \"https://cdn.jsdelivr.net/npm/vega-datasets@1/data/cars.json\"}, \"params\": [{\"name\": \"param_5\", \"select\": {\"type\": \"point\"}, \"views\": [\"view_4\"]}, {\"name\": \"param_6\", \"select\": {\"type\": \"point\"}, \"views\": [\"view_5\"]}, {\"name\": \"param_7\", \"select\": {\"type\": \"interval\"}, \"views\": [\"view_6\"]}], \"$schema\": \"https://vega.github.io/schema/vega-lite/v5.20.1.json\"}, {\"mode\": \"vega-lite\"});\n",
       "</script>"
      ],
      "text/plain": [
       "alt.HConcatChart(...)"
      ]
     },
     "execution_count": 8,
     "metadata": {},
     "output_type": "execute_result"
    }
   ],
   "source": [
    "alt.hconcat(\n",
    "  plot(alt.selection_single()).properties(title='Single (Click)'),\n",
    "  plot(alt.selection_multi()).properties(title='Multi (Shift-Click)'),\n",
    "  plot(alt.selection_interval()).properties(title='Interval (Drag)')\n",
    ")"
   ]
  },
  {
   "cell_type": "markdown",
   "id": "a5f42dc0",
   "metadata": {
    "id": "CKyNyoV5Y9jq"
   },
   "source": [
    "Os exemplos acima usam interações padrão (click, shift-click, arrasto) para cada tipo de seleção. Podemos aprofundar na customização de interações fornecendo especificações do evento de input usando a [sintaxe do seletor de evento do Vega](https://vega.github.io/vega/docs/event-streams/). Por exemplo, podemos modificar nossos gráficos `single` e `multi` para ativar em eventos de `mouseover` em vez de eventos de `click`.\n",
    "\n",
    "*Pressione a tecla shift no segundo gráfico para \"pintar\" com dados!*"
   ]
  },
  {
   "cell_type": "code",
   "execution_count": 9,
   "id": "f81957a6",
   "metadata": {
    "colab": {
     "base_uri": "https://localhost:8080/",
     "height": 423
    },
    "id": "CQbVEUicY9js",
    "outputId": "fed2d46e-2edf-408b-e49e-9d129650cd78"
   },
   "outputs": [
    {
     "name": "stderr",
     "output_type": "stream",
     "text": [
      "C:\\Users\\elian\\AppData\\Local\\Temp\\ipykernel_29920\\861132474.py:2: AltairDeprecationWarning: \n",
      "Deprecated since `altair=5.0.0`. Use selection_point instead.\n",
      "  plot(alt.selection_single(on='mouseover')).properties(title='Single (Mouseover)'),\n",
      "C:\\Users\\elian\\AppData\\Local\\Temp\\ipykernel_29920\\1277325702.py:2: AltairDeprecationWarning: \n",
      "Deprecated since `altair=5.0.0`. Use add_params instead.\n",
      "  return alt.Chart(cars).mark_circle().add_selection(\n",
      "C:\\Users\\elian\\AppData\\Local\\Temp\\ipykernel_29920\\861132474.py:3: AltairDeprecationWarning: \n",
      "Deprecated since `altair=5.0.0`. Use selection_point instead.\n",
      "  plot(alt.selection_multi(on='mouseover')).properties(title='Multi (Shift-Mouseover)')\n"
     ]
    },
    {
     "data": {
      "text/html": [
       "\n",
       "<style>\n",
       "  #altair-viz-be2671c35ce0435d8b38a43fd888734e.vega-embed {\n",
       "    width: 100%;\n",
       "    display: flex;\n",
       "  }\n",
       "\n",
       "  #altair-viz-be2671c35ce0435d8b38a43fd888734e.vega-embed details,\n",
       "  #altair-viz-be2671c35ce0435d8b38a43fd888734e.vega-embed details summary {\n",
       "    position: relative;\n",
       "  }\n",
       "</style>\n",
       "<div id=\"altair-viz-be2671c35ce0435d8b38a43fd888734e\"></div>\n",
       "<script type=\"text/javascript\">\n",
       "  var VEGA_DEBUG = (typeof VEGA_DEBUG == \"undefined\") ? {} : VEGA_DEBUG;\n",
       "  (function(spec, embedOpt){\n",
       "    let outputDiv = document.currentScript.previousElementSibling;\n",
       "    if (outputDiv.id !== \"altair-viz-be2671c35ce0435d8b38a43fd888734e\") {\n",
       "      outputDiv = document.getElementById(\"altair-viz-be2671c35ce0435d8b38a43fd888734e\");\n",
       "    }\n",
       "\n",
       "    const paths = {\n",
       "      \"vega\": \"https://cdn.jsdelivr.net/npm/vega@5?noext\",\n",
       "      \"vega-lib\": \"https://cdn.jsdelivr.net/npm/vega-lib?noext\",\n",
       "      \"vega-lite\": \"https://cdn.jsdelivr.net/npm/vega-lite@5.20.1?noext\",\n",
       "      \"vega-embed\": \"https://cdn.jsdelivr.net/npm/vega-embed@6?noext\",\n",
       "    };\n",
       "\n",
       "    function maybeLoadScript(lib, version) {\n",
       "      var key = `${lib.replace(\"-\", \"\")}_version`;\n",
       "      return (VEGA_DEBUG[key] == version) ?\n",
       "        Promise.resolve(paths[lib]) :\n",
       "        new Promise(function(resolve, reject) {\n",
       "          var s = document.createElement('script');\n",
       "          document.getElementsByTagName(\"head\")[0].appendChild(s);\n",
       "          s.async = true;\n",
       "          s.onload = () => {\n",
       "            VEGA_DEBUG[key] = version;\n",
       "            return resolve(paths[lib]);\n",
       "          };\n",
       "          s.onerror = () => reject(`Error loading script: ${paths[lib]}`);\n",
       "          s.src = paths[lib];\n",
       "        });\n",
       "    }\n",
       "\n",
       "    function showError(err) {\n",
       "      outputDiv.innerHTML = `<div class=\"error\" style=\"color:red;\">${err}</div>`;\n",
       "      throw err;\n",
       "    }\n",
       "\n",
       "    function displayChart(vegaEmbed) {\n",
       "      vegaEmbed(outputDiv, spec, embedOpt)\n",
       "        .catch(err => showError(`Javascript Error: ${err.message}<br>This usually means there's a typo in your chart specification. See the javascript console for the full traceback.`));\n",
       "    }\n",
       "\n",
       "    if(typeof define === \"function\" && define.amd) {\n",
       "      requirejs.config({paths});\n",
       "      let deps = [\"vega-embed\"];\n",
       "      require(deps, displayChart, err => showError(`Error loading script: ${err.message}`));\n",
       "    } else {\n",
       "      maybeLoadScript(\"vega\", \"5\")\n",
       "        .then(() => maybeLoadScript(\"vega-lite\", \"5.20.1\"))\n",
       "        .then(() => maybeLoadScript(\"vega-embed\", \"6\"))\n",
       "        .catch(showError)\n",
       "        .then(() => displayChart(vegaEmbed));\n",
       "    }\n",
       "  })({\"config\": {\"view\": {\"continuousWidth\": 300, \"continuousHeight\": 300}}, \"hconcat\": [{\"mark\": {\"type\": \"circle\"}, \"encoding\": {\"color\": {\"condition\": {\"param\": \"param_8\", \"field\": \"Cylinders\", \"type\": \"ordinal\"}, \"value\": \"grey\"}, \"opacity\": {\"condition\": {\"param\": \"param_8\", \"value\": 0.8}, \"value\": 0.1}, \"x\": {\"field\": \"Horsepower\", \"type\": \"quantitative\"}, \"y\": {\"field\": \"Miles_per_Gallon\", \"type\": \"quantitative\"}}, \"height\": 180, \"name\": \"view_7\", \"title\": \"Single (Mouseover)\", \"width\": 240}, {\"mark\": {\"type\": \"circle\"}, \"encoding\": {\"color\": {\"condition\": {\"param\": \"param_9\", \"field\": \"Cylinders\", \"type\": \"ordinal\"}, \"value\": \"grey\"}, \"opacity\": {\"condition\": {\"param\": \"param_9\", \"value\": 0.8}, \"value\": 0.1}, \"x\": {\"field\": \"Horsepower\", \"type\": \"quantitative\"}, \"y\": {\"field\": \"Miles_per_Gallon\", \"type\": \"quantitative\"}}, \"height\": 180, \"name\": \"view_8\", \"title\": \"Multi (Shift-Mouseover)\", \"width\": 240}], \"data\": {\"url\": \"https://cdn.jsdelivr.net/npm/vega-datasets@1/data/cars.json\"}, \"params\": [{\"name\": \"param_8\", \"select\": {\"type\": \"point\", \"on\": \"mouseover\"}, \"views\": [\"view_7\"]}, {\"name\": \"param_9\", \"select\": {\"type\": \"point\", \"on\": \"mouseover\"}, \"views\": [\"view_8\"]}], \"$schema\": \"https://vega.github.io/schema/vega-lite/v5.20.1.json\"}, {\"mode\": \"vega-lite\"});\n",
       "</script>"
      ],
      "text/plain": [
       "alt.HConcatChart(...)"
      ]
     },
     "execution_count": 9,
     "metadata": {},
     "output_type": "execute_result"
    }
   ],
   "source": [
    "alt.hconcat(\n",
    "  plot(alt.selection_single(on='mouseover')).properties(title='Single (Mouseover)'),\n",
    "  plot(alt.selection_multi(on='mouseover')).properties(title='Multi (Shift-Mouseover)')\n",
    ")"
   ]
  },
  {
   "cell_type": "markdown",
   "id": "e40d7ebb",
   "metadata": {
    "id": "lW8CA7AWY9js"
   },
   "source": [
    "Agora que cobrimos as seleções básicas do Altair, vamos fazer um tour pelas várias técnicas de interação que elas permitem!"
   ]
  },
  {
   "cell_type": "markdown",
   "id": "d6d57aa8",
   "metadata": {
    "id": "tx03eE43Y9js"
   },
   "source": [
    "# 6.3. Consultas Dinâmicas\n",
    "\n",
    "*Consultas Dinâmicas* permitem explorações rápidas e reversíveis de dados para isolar padrões de interesse. Como definido por [Ahlberg, Williamson & Shneiderman](https://www.cs.umd.edu/~ben/papers/Ahlberg1992Dynamic.pdf), uma consulta dinâmica:\n",
    "\n",
    "- representa graficamente uma consulta;\n",
    "- fornece limites visíveis no alcance da consulta;\n",
    "- fornece uma representação gráfica dos dados e do resultado da consulta;\n",
    "- dá um feedback imediato do resultado após ajuste da consulta;\n",
    "- permite novatos a iniciar os trabalhos com pouco treinamento.\n",
    "\n",
    "Uma abordagem comum é manipular os parâmetros da consulta utilizando widgets de interface de usuário padrão como sliders, botões de opção e menus suspensos. Para gerar widgets de consulta dinâmicos, podemos aplicar uma operação de vinculação de seleção a um ou mais campos de dados que desejamos consultar.\n",
    "\n",
    "Vamos construir um gráfico de dispersão interativo que utiliza uma consulta dinâmica para filtrar a exibição. Dado um gráfico de dispersão de avaliações de filmes (do Rotten Tomatoes e IMDb) podemos adicionar uma seleção sobre o campo `Major_Genre` que habilite filtrar filmes por gênero.\n",
    "\n",
    "Para começar, vamos extrair os gêneros únicos (não nulos) dos dados dos filmes:"
   ]
  },
  {
   "cell_type": "code",
   "execution_count": 10,
   "id": "09492dad",
   "metadata": {
    "id": "dIudjnqXY9ju"
   },
   "outputs": [],
   "source": [
    "df = pd.read_json(movies) # carregando data movies\n",
    "genres = df['Major_Genre'].unique() # escolhendo um único campo de valores\n",
    "genres = list(filter(lambda d: d is not None, genres)) # filtrando valores não vazios\n",
    "genres.sort() # ordem alfabética"
   ]
  },
  {
   "cell_type": "markdown",
   "id": "a58d7d25",
   "metadata": {
    "id": "jQy4uYmEY9ju"
   },
   "source": [
    "Para uso posterior, também vamos definir uma lista de valores exclusivos `MPAA_Rating`:"
   ]
  },
  {
   "cell_type": "code",
   "execution_count": 11,
   "id": "4ef1063d",
   "metadata": {
    "id": "0VKT6Gl4Y9ju"
   },
   "outputs": [],
   "source": [
    "mpaa = ['G', 'PG', 'PG-13', 'R', 'NC-17', 'Not Rated']"
   ]
  },
  {
   "cell_type": "markdown",
   "id": "e4a01290",
   "metadata": {
    "id": "PNRecTlEY9jv"
   },
   "source": [
    "Agora criamos uma seleção `single` vinculada a um menu suspenso."
   ]
  },
  {
   "cell_type": "markdown",
   "id": "fce3860a",
   "metadata": {
    "id": "hnX_BMGnY9jw"
   },
   "source": [
    "*Use o menu de consulta dinâmica abaixo para explorar os dados. Como as classificações variam por gênero? Como você revisaria o código para filtrar `MPAA_Rating` (G, PG, PG-13, etc.) ao invés de `Major_Genre`?*"
   ]
  },
  {
   "cell_type": "code",
   "execution_count": 12,
   "id": "fef830ef",
   "metadata": {
    "colab": {
     "base_uri": "https://localhost:8080/",
     "height": 408
    },
    "id": "a5W1xMlKY9jw",
    "outputId": "afa0b8b6-a53a-4e0b-dc6f-5cc1eea8c1b5"
   },
   "outputs": [
    {
     "name": "stderr",
     "output_type": "stream",
     "text": [
      "C:\\Users\\elian\\AppData\\Local\\Temp\\ipykernel_29920\\4070697409.py:1: AltairDeprecationWarning: \n",
      "Deprecated since `altair=5.0.0`. Use selection_point instead.\n",
      "  selectGenre = alt.selection_single(\n"
     ]
    },
    {
     "ename": "TypeError",
     "evalue": "altair.vegalite.v5.schema.core.SelectionParameter() got multiple values for keyword argument 'value'",
     "output_type": "error",
     "traceback": [
      "\u001b[1;31m---------------------------------------------------------------------------\u001b[0m",
      "\u001b[1;31mTypeError\u001b[0m                                 Traceback (most recent call last)",
      "Cell \u001b[1;32mIn[12], line 1\u001b[0m\n\u001b[1;32m----> 1\u001b[0m selectGenre \u001b[38;5;241m=\u001b[39m \u001b[43malt\u001b[49m\u001b[38;5;241;43m.\u001b[39;49m\u001b[43mselection_single\u001b[49m\u001b[43m(\u001b[49m\n\u001b[0;32m      2\u001b[0m \u001b[43m    \u001b[49m\u001b[43mname\u001b[49m\u001b[38;5;241;43m=\u001b[39;49m\u001b[38;5;124;43m'\u001b[39;49m\u001b[38;5;124;43mSelect\u001b[39;49m\u001b[38;5;124;43m'\u001b[39;49m\u001b[43m,\u001b[49m\u001b[43m \u001b[49m\u001b[38;5;66;43;03m# nome da seleção 'Select'\u001b[39;49;00m\n\u001b[0;32m      3\u001b[0m \u001b[43m    \u001b[49m\u001b[43mfields\u001b[49m\u001b[38;5;241;43m=\u001b[39;49m\u001b[43m[\u001b[49m\u001b[38;5;124;43m'\u001b[39;49m\u001b[38;5;124;43mMajor_Genre\u001b[39;49m\u001b[38;5;124;43m'\u001b[39;49m\u001b[43m]\u001b[49m\u001b[43m,\u001b[49m\u001b[43m \u001b[49m\u001b[38;5;66;43;03m# limitando a seleção a Major_Genre field\u001b[39;49;00m\n\u001b[0;32m      4\u001b[0m \u001b[43m    \u001b[49m\u001b[43minit\u001b[49m\u001b[38;5;241;43m=\u001b[39;49m\u001b[43m{\u001b[49m\u001b[38;5;124;43m'\u001b[39;49m\u001b[38;5;124;43mMajor_Genre\u001b[39;49m\u001b[38;5;124;43m'\u001b[39;49m\u001b[43m:\u001b[49m\u001b[43m \u001b[49m\u001b[43mgenres\u001b[49m\u001b[43m[\u001b[49m\u001b[38;5;241;43m0\u001b[39;49m\u001b[43m]\u001b[49m\u001b[43m}\u001b[49m\u001b[43m,\u001b[49m\u001b[43m \u001b[49m\u001b[38;5;66;43;03m# utilizando a primeira entrada do gênero como valor inicial\u001b[39;49;00m\n\u001b[0;32m      5\u001b[0m \u001b[43m    \u001b[49m\u001b[43mbind\u001b[49m\u001b[38;5;241;43m=\u001b[39;49m\u001b[43malt\u001b[49m\u001b[38;5;241;43m.\u001b[39;49m\u001b[43mbinding_select\u001b[49m\u001b[43m(\u001b[49m\u001b[43moptions\u001b[49m\u001b[38;5;241;43m=\u001b[39;49m\u001b[43mgenres\u001b[49m\u001b[43m)\u001b[49m\u001b[43m \u001b[49m\u001b[38;5;66;43;03m# ligar a um menu de valores únicos de gênero\u001b[39;49;00m\n\u001b[0;32m      6\u001b[0m \u001b[43m)\u001b[49m\n\u001b[0;32m      8\u001b[0m alt\u001b[38;5;241m.\u001b[39mChart(movies)\u001b[38;5;241m.\u001b[39mmark_circle()\u001b[38;5;241m.\u001b[39madd_selection(\n\u001b[0;32m      9\u001b[0m     selectGenre\n\u001b[0;32m     10\u001b[0m )\u001b[38;5;241m.\u001b[39mencode(\n\u001b[1;32m   (...)\u001b[0m\n\u001b[0;32m     14\u001b[0m     opacity\u001b[38;5;241m=\u001b[39malt\u001b[38;5;241m.\u001b[39mcondition(selectGenre, alt\u001b[38;5;241m.\u001b[39mvalue(\u001b[38;5;241m0.75\u001b[39m), alt\u001b[38;5;241m.\u001b[39mvalue(\u001b[38;5;241m0.05\u001b[39m))\n\u001b[0;32m     15\u001b[0m )\n",
      "File \u001b[1;32m~\\AppData\\Local\\Packages\\PythonSoftwareFoundation.Python.3.11_qbz5n2kfra8p0\\LocalCache\\local-packages\\Python311\\site-packages\\typing_extensions.py:2853\u001b[0m, in \u001b[0;36mdeprecated.__call__.<locals>.wrapper\u001b[1;34m(*args, **kwargs)\u001b[0m\n\u001b[0;32m   2850\u001b[0m \u001b[38;5;129m@functools\u001b[39m\u001b[38;5;241m.\u001b[39mwraps(arg)\n\u001b[0;32m   2851\u001b[0m \u001b[38;5;28;01mdef\u001b[39;00m \u001b[38;5;21mwrapper\u001b[39m(\u001b[38;5;241m*\u001b[39margs, \u001b[38;5;241m*\u001b[39m\u001b[38;5;241m*\u001b[39mkwargs):\n\u001b[0;32m   2852\u001b[0m     warnings\u001b[38;5;241m.\u001b[39mwarn(msg, category\u001b[38;5;241m=\u001b[39mcategory, stacklevel\u001b[38;5;241m=\u001b[39mstacklevel \u001b[38;5;241m+\u001b[39m \u001b[38;5;241m1\u001b[39m)\n\u001b[1;32m-> 2853\u001b[0m     \u001b[38;5;28;01mreturn\u001b[39;00m \u001b[43marg\u001b[49m\u001b[43m(\u001b[49m\u001b[38;5;241;43m*\u001b[39;49m\u001b[43margs\u001b[49m\u001b[43m,\u001b[49m\u001b[43m \u001b[49m\u001b[38;5;241;43m*\u001b[39;49m\u001b[38;5;241;43m*\u001b[39;49m\u001b[43mkwargs\u001b[49m\u001b[43m)\u001b[49m\n",
      "File \u001b[1;32m~\\AppData\\Local\\Packages\\PythonSoftwareFoundation.Python.3.11_qbz5n2kfra8p0\\LocalCache\\local-packages\\Python311\\site-packages\\altair\\vegalite\\v5\\api.py:1749\u001b[0m, in \u001b[0;36mselection_single\u001b[1;34m(**kwargs)\u001b[0m\n\u001b[0;32m   1746\u001b[0m \u001b[38;5;129m@utils\u001b[39m\u001b[38;5;241m.\u001b[39mdeprecated(version\u001b[38;5;241m=\u001b[39m\u001b[38;5;124m\"\u001b[39m\u001b[38;5;124m5.0.0\u001b[39m\u001b[38;5;124m\"\u001b[39m, alternative\u001b[38;5;241m=\u001b[39m\u001b[38;5;124m\"\u001b[39m\u001b[38;5;124mselection_point\u001b[39m\u001b[38;5;124m\"\u001b[39m)\n\u001b[0;32m   1747\u001b[0m \u001b[38;5;28;01mdef\u001b[39;00m \u001b[38;5;21mselection_single\u001b[39m(\u001b[38;5;241m*\u001b[39m\u001b[38;5;241m*\u001b[39mkwargs: Any) \u001b[38;5;241m-\u001b[39m\u001b[38;5;241m>\u001b[39m Parameter:\n\u001b[0;32m   1748\u001b[0m \u001b[38;5;250m    \u001b[39m\u001b[38;5;124;03m\"\"\"'selection_single' is deprecated.  Use 'selection_point'.\"\"\"\u001b[39;00m\n\u001b[1;32m-> 1749\u001b[0m     \u001b[38;5;28;01mreturn\u001b[39;00m \u001b[43m_selection\u001b[49m\u001b[43m(\u001b[49m\u001b[38;5;28;43mtype\u001b[39;49m\u001b[38;5;241;43m=\u001b[39;49m\u001b[38;5;124;43m\"\u001b[39;49m\u001b[38;5;124;43mpoint\u001b[39;49m\u001b[38;5;124;43m\"\u001b[39;49m\u001b[43m,\u001b[49m\u001b[43m \u001b[49m\u001b[38;5;241;43m*\u001b[39;49m\u001b[38;5;241;43m*\u001b[39;49m\u001b[43mkwargs\u001b[49m\u001b[43m)\u001b[49m\n",
      "File \u001b[1;32m~\\AppData\\Local\\Packages\\PythonSoftwareFoundation.Python.3.11_qbz5n2kfra8p0\\LocalCache\\local-packages\\Python311\\site-packages\\altair\\vegalite\\v5\\api.py:1443\u001b[0m, in \u001b[0;36m_selection\u001b[1;34m(type, **kwds)\u001b[0m\n\u001b[0;32m   1440\u001b[0m     msg \u001b[38;5;241m=\u001b[39m \u001b[38;5;124m\"\"\"\u001b[39m\u001b[38;5;124m'\u001b[39m\u001b[38;5;124mtype\u001b[39m\u001b[38;5;124m'\u001b[39m\u001b[38;5;124m must be \u001b[39m\u001b[38;5;124m'\u001b[39m\u001b[38;5;124mpoint\u001b[39m\u001b[38;5;124m'\u001b[39m\u001b[38;5;124m or \u001b[39m\u001b[38;5;124m'\u001b[39m\u001b[38;5;124minterval\u001b[39m\u001b[38;5;124m'\u001b[39m\u001b[38;5;124m\"\"\"\u001b[39m\n\u001b[0;32m   1441\u001b[0m     \u001b[38;5;28;01mraise\u001b[39;00m \u001b[38;5;167;01mValueError\u001b[39;00m(msg)\n\u001b[1;32m-> 1443\u001b[0m \u001b[38;5;28;01mreturn\u001b[39;00m \u001b[43mparam\u001b[49m\u001b[43m(\u001b[49m\u001b[43mselect\u001b[49m\u001b[38;5;241;43m=\u001b[39;49m\u001b[43mselect\u001b[49m\u001b[43m,\u001b[49m\u001b[43m \u001b[49m\u001b[38;5;241;43m*\u001b[39;49m\u001b[38;5;241;43m*\u001b[39;49m\u001b[43mparam_kwds\u001b[49m\u001b[43m)\u001b[49m\n",
      "File \u001b[1;32m~\\AppData\\Local\\Packages\\PythonSoftwareFoundation.Python.3.11_qbz5n2kfra8p0\\LocalCache\\local-packages\\Python311\\site-packages\\altair\\vegalite\\v5\\api.py:1413\u001b[0m, in \u001b[0;36mparam\u001b[1;34m(name, value, bind, empty, expr, **kwds)\u001b[0m\n\u001b[0;32m   1411\u001b[0m     parameter\u001b[38;5;241m.\u001b[39mparam_type \u001b[38;5;241m=\u001b[39m \u001b[38;5;124m\"\u001b[39m\u001b[38;5;124mselection\u001b[39m\u001b[38;5;124m\"\u001b[39m\n\u001b[0;32m   1412\u001b[0m \u001b[38;5;28;01melse\u001b[39;00m:\n\u001b[1;32m-> 1413\u001b[0m     parameter\u001b[38;5;241m.\u001b[39mparam \u001b[38;5;241m=\u001b[39m core\u001b[38;5;241m.\u001b[39mSelectionParameter(\n\u001b[0;32m   1414\u001b[0m         name\u001b[38;5;241m=\u001b[39mparameter\u001b[38;5;241m.\u001b[39mname, bind\u001b[38;5;241m=\u001b[39mbind, value\u001b[38;5;241m=\u001b[39mvalue, expr\u001b[38;5;241m=\u001b[39mexpr, \u001b[38;5;241m*\u001b[39m\u001b[38;5;241m*\u001b[39mkwds\n\u001b[0;32m   1415\u001b[0m     )\n\u001b[0;32m   1416\u001b[0m     parameter\u001b[38;5;241m.\u001b[39mparam_type \u001b[38;5;241m=\u001b[39m \u001b[38;5;124m\"\u001b[39m\u001b[38;5;124mselection\u001b[39m\u001b[38;5;124m\"\u001b[39m\n\u001b[0;32m   1418\u001b[0m \u001b[38;5;28;01mreturn\u001b[39;00m parameter\n",
      "\u001b[1;31mTypeError\u001b[0m: altair.vegalite.v5.schema.core.SelectionParameter() got multiple values for keyword argument 'value'"
     ]
    }
   ],
   "source": [
    "selectGenre = alt.selection_single(\n",
    "    name='Select', # nome da seleção 'Select'\n",
    "    fields=['Major_Genre'], # limitando a seleção a Major_Genre field\n",
    "    init={'Major_Genre': genres[0]}, # utilizando a primeira entrada do gênero como valor inicial\n",
    "    bind=alt.binding_select(options=genres) # ligar a um menu de valores únicos de gênero\n",
    ")\n",
    "\n",
    "alt.Chart(movies).mark_circle().add_selection(\n",
    "    selectGenre\n",
    ").encode(\n",
    "    x='Rotten_Tomatoes_Rating:Q',\n",
    "    y='IMDB_Rating:Q',\n",
    "    tooltip='Title:N',\n",
    "    opacity=alt.condition(selectGenre, alt.value(0.75), alt.value(0.05))\n",
    ")\n"
   ]
  },
  {
   "cell_type": "markdown",
   "id": "c8871e06",
   "metadata": {
    "id": "Z-D2NYLNY9jx"
   },
   "source": [
    "Nossa construção acima faz uso de múltiplos aspectos de seleções:\n",
    "\n",
    "- Demos um nome à seleção (`Select`). Esse nome não é exigido, mas permite que influenciemos os rótulos de texto do menu de consulta dinâmigo gerado. *(O que acontece se você remover o nome? Teste!)*\n",
    "- Nós restringimos a seleção a um único campo de dados (`Major_Genre`). Anteriomente usamos uma seleção `single`, a seleção era mapeada para pontos de dados individuais. Ao limitar a seleção a um campo específico, podemos selecionar _todos_ os pontos de dados cujo valor do campo `Major_Genre` corresponde ao único valor selecionado.\n",
    "- Iniciamos `init=...` a seleção para um valor inicial.\n",
    "- Nós vinculamos (`bind`) a seleção a um widget de interface, neste caso um menu suspenso via `binding_select`.\n",
    "- Como antes, usamos uma codificação condicional para controlar a opacidade do canal."
   ]
  },
  {
   "cell_type": "markdown",
   "id": "a742121b",
   "metadata": {
    "id": "v62s2w5LY9jy"
   },
   "source": [
    "# 6.3.1. Vinculando Seções a Entradas Múltiplas\n",
    "\n",
    "Uma instância de seleção pode ser vinculada a *múltiplos* widgets de consultas dinâmicas. Vamos modificar o exemplo acima para fornecer filtros para *ambos* `Major_Genre` e `MPAA_Rating`, usando botões de opção ao invés de um menu. Nossa seleção `single` agora está definida sobre um único *par* de gêneros e valores de classificação MPAA.\n",
    "\n",
    "*Procure por conjunções surpreendentes de gênero e classificações indicativas. Há algum filme de terror classificado como G ou PG?*"
   ]
  },
  {
   "cell_type": "code",
   "execution_count": 13,
   "id": "e95b3191",
   "metadata": {
    "colab": {
     "base_uri": "https://localhost:8080/",
     "height": 408
    },
    "id": "KY-mklT4Y9jy",
    "outputId": "0272ca1c-1ace-45dd-e6a8-65d22d908d6b"
   },
   "outputs": [
    {
     "name": "stderr",
     "output_type": "stream",
     "text": [
      "C:\\Users\\elian\\AppData\\Local\\Temp\\ipykernel_29920\\1549142674.py:3: AltairDeprecationWarning: \n",
      "Deprecated since `altair=5.0.0`. Use selection_point instead.\n",
      "  selection = alt.selection_single(\n"
     ]
    },
    {
     "ename": "TypeError",
     "evalue": "altair.vegalite.v5.schema.core.SelectionParameter() got multiple values for keyword argument 'value'",
     "output_type": "error",
     "traceback": [
      "\u001b[1;31m---------------------------------------------------------------------------\u001b[0m",
      "\u001b[1;31mTypeError\u001b[0m                                 Traceback (most recent call last)",
      "Cell \u001b[1;32mIn[13], line 3\u001b[0m\n\u001b[0;32m      1\u001b[0m \u001b[38;5;66;03m# Seleção de valor único sobre pares [Major_Genre, MPAA_Rating]\u001b[39;00m\n\u001b[0;32m      2\u001b[0m \u001b[38;5;66;03m# Utilizar valores específicos fixados como valores iniciais selecionados\u001b[39;00m\n\u001b[1;32m----> 3\u001b[0m selection \u001b[38;5;241m=\u001b[39m \u001b[43malt\u001b[49m\u001b[38;5;241;43m.\u001b[39;49m\u001b[43mselection_single\u001b[49m\u001b[43m(\u001b[49m\n\u001b[0;32m      4\u001b[0m \u001b[43m    \u001b[49m\u001b[43mname\u001b[49m\u001b[38;5;241;43m=\u001b[39;49m\u001b[38;5;124;43m'\u001b[39;49m\u001b[38;5;124;43mSelect\u001b[39;49m\u001b[38;5;124;43m'\u001b[39;49m\u001b[43m,\u001b[49m\n\u001b[0;32m      5\u001b[0m \u001b[43m    \u001b[49m\u001b[43mfields\u001b[49m\u001b[38;5;241;43m=\u001b[39;49m\u001b[43m[\u001b[49m\u001b[38;5;124;43m'\u001b[39;49m\u001b[38;5;124;43mMajor_Genre\u001b[39;49m\u001b[38;5;124;43m'\u001b[39;49m\u001b[43m,\u001b[49m\u001b[43m \u001b[49m\u001b[38;5;124;43m'\u001b[39;49m\u001b[38;5;124;43mMPAA_Rating\u001b[39;49m\u001b[38;5;124;43m'\u001b[39;49m\u001b[43m]\u001b[49m\u001b[43m,\u001b[49m\n\u001b[0;32m      6\u001b[0m \u001b[43m    \u001b[49m\u001b[43minit\u001b[49m\u001b[38;5;241;43m=\u001b[39;49m\u001b[43m{\u001b[49m\u001b[38;5;124;43m'\u001b[39;49m\u001b[38;5;124;43mMajor_Genre\u001b[39;49m\u001b[38;5;124;43m'\u001b[39;49m\u001b[43m:\u001b[49m\u001b[43m \u001b[49m\u001b[38;5;124;43m'\u001b[39;49m\u001b[38;5;124;43mDrama\u001b[39;49m\u001b[38;5;124;43m'\u001b[39;49m\u001b[43m,\u001b[49m\u001b[43m \u001b[49m\u001b[38;5;124;43m'\u001b[39;49m\u001b[38;5;124;43mMPAA_Rating\u001b[39;49m\u001b[38;5;124;43m'\u001b[39;49m\u001b[43m:\u001b[49m\u001b[43m \u001b[49m\u001b[38;5;124;43m'\u001b[39;49m\u001b[38;5;124;43mR\u001b[39;49m\u001b[38;5;124;43m'\u001b[39;49m\u001b[43m}\u001b[49m\u001b[43m,\u001b[49m\n\u001b[0;32m      7\u001b[0m \u001b[43m    \u001b[49m\u001b[43mbind\u001b[49m\u001b[38;5;241;43m=\u001b[39;49m\u001b[43m{\u001b[49m\u001b[38;5;124;43m'\u001b[39;49m\u001b[38;5;124;43mMajor_Genre\u001b[39;49m\u001b[38;5;124;43m'\u001b[39;49m\u001b[43m:\u001b[49m\u001b[43m \u001b[49m\u001b[43malt\u001b[49m\u001b[38;5;241;43m.\u001b[39;49m\u001b[43mbinding_select\u001b[49m\u001b[43m(\u001b[49m\u001b[43moptions\u001b[49m\u001b[38;5;241;43m=\u001b[39;49m\u001b[43mgenres\u001b[49m\u001b[43m)\u001b[49m\u001b[43m,\u001b[49m\u001b[43m \u001b[49m\u001b[38;5;124;43m'\u001b[39;49m\u001b[38;5;124;43mMPAA_Rating\u001b[39;49m\u001b[38;5;124;43m'\u001b[39;49m\u001b[43m:\u001b[49m\u001b[43m \u001b[49m\u001b[43malt\u001b[49m\u001b[38;5;241;43m.\u001b[39;49m\u001b[43mbinding_radio\u001b[49m\u001b[43m(\u001b[49m\u001b[43moptions\u001b[49m\u001b[38;5;241;43m=\u001b[39;49m\u001b[43mmpaa\u001b[49m\u001b[43m)\u001b[49m\u001b[43m}\u001b[49m\n\u001b[0;32m      8\u001b[0m \u001b[43m)\u001b[49m\n\u001b[0;32m     10\u001b[0m \u001b[38;5;66;03m# scatter plot, modificar a opacidade com base na seleção\u001b[39;00m\n\u001b[0;32m     11\u001b[0m alt\u001b[38;5;241m.\u001b[39mChart(movies)\u001b[38;5;241m.\u001b[39mmark_circle()\u001b[38;5;241m.\u001b[39madd_selection(\n\u001b[0;32m     12\u001b[0m     selection\n\u001b[0;32m     13\u001b[0m )\u001b[38;5;241m.\u001b[39mencode(\n\u001b[1;32m   (...)\u001b[0m\n\u001b[0;32m     17\u001b[0m     opacity\u001b[38;5;241m=\u001b[39malt\u001b[38;5;241m.\u001b[39mcondition(selection, alt\u001b[38;5;241m.\u001b[39mvalue(\u001b[38;5;241m0.75\u001b[39m), alt\u001b[38;5;241m.\u001b[39mvalue(\u001b[38;5;241m0.05\u001b[39m))\n\u001b[0;32m     18\u001b[0m )\n",
      "File \u001b[1;32m~\\AppData\\Local\\Packages\\PythonSoftwareFoundation.Python.3.11_qbz5n2kfra8p0\\LocalCache\\local-packages\\Python311\\site-packages\\typing_extensions.py:2853\u001b[0m, in \u001b[0;36mdeprecated.__call__.<locals>.wrapper\u001b[1;34m(*args, **kwargs)\u001b[0m\n\u001b[0;32m   2850\u001b[0m \u001b[38;5;129m@functools\u001b[39m\u001b[38;5;241m.\u001b[39mwraps(arg)\n\u001b[0;32m   2851\u001b[0m \u001b[38;5;28;01mdef\u001b[39;00m \u001b[38;5;21mwrapper\u001b[39m(\u001b[38;5;241m*\u001b[39margs, \u001b[38;5;241m*\u001b[39m\u001b[38;5;241m*\u001b[39mkwargs):\n\u001b[0;32m   2852\u001b[0m     warnings\u001b[38;5;241m.\u001b[39mwarn(msg, category\u001b[38;5;241m=\u001b[39mcategory, stacklevel\u001b[38;5;241m=\u001b[39mstacklevel \u001b[38;5;241m+\u001b[39m \u001b[38;5;241m1\u001b[39m)\n\u001b[1;32m-> 2853\u001b[0m     \u001b[38;5;28;01mreturn\u001b[39;00m \u001b[43marg\u001b[49m\u001b[43m(\u001b[49m\u001b[38;5;241;43m*\u001b[39;49m\u001b[43margs\u001b[49m\u001b[43m,\u001b[49m\u001b[43m \u001b[49m\u001b[38;5;241;43m*\u001b[39;49m\u001b[38;5;241;43m*\u001b[39;49m\u001b[43mkwargs\u001b[49m\u001b[43m)\u001b[49m\n",
      "File \u001b[1;32m~\\AppData\\Local\\Packages\\PythonSoftwareFoundation.Python.3.11_qbz5n2kfra8p0\\LocalCache\\local-packages\\Python311\\site-packages\\altair\\vegalite\\v5\\api.py:1749\u001b[0m, in \u001b[0;36mselection_single\u001b[1;34m(**kwargs)\u001b[0m\n\u001b[0;32m   1746\u001b[0m \u001b[38;5;129m@utils\u001b[39m\u001b[38;5;241m.\u001b[39mdeprecated(version\u001b[38;5;241m=\u001b[39m\u001b[38;5;124m\"\u001b[39m\u001b[38;5;124m5.0.0\u001b[39m\u001b[38;5;124m\"\u001b[39m, alternative\u001b[38;5;241m=\u001b[39m\u001b[38;5;124m\"\u001b[39m\u001b[38;5;124mselection_point\u001b[39m\u001b[38;5;124m\"\u001b[39m)\n\u001b[0;32m   1747\u001b[0m \u001b[38;5;28;01mdef\u001b[39;00m \u001b[38;5;21mselection_single\u001b[39m(\u001b[38;5;241m*\u001b[39m\u001b[38;5;241m*\u001b[39mkwargs: Any) \u001b[38;5;241m-\u001b[39m\u001b[38;5;241m>\u001b[39m Parameter:\n\u001b[0;32m   1748\u001b[0m \u001b[38;5;250m    \u001b[39m\u001b[38;5;124;03m\"\"\"'selection_single' is deprecated.  Use 'selection_point'.\"\"\"\u001b[39;00m\n\u001b[1;32m-> 1749\u001b[0m     \u001b[38;5;28;01mreturn\u001b[39;00m \u001b[43m_selection\u001b[49m\u001b[43m(\u001b[49m\u001b[38;5;28;43mtype\u001b[39;49m\u001b[38;5;241;43m=\u001b[39;49m\u001b[38;5;124;43m\"\u001b[39;49m\u001b[38;5;124;43mpoint\u001b[39;49m\u001b[38;5;124;43m\"\u001b[39;49m\u001b[43m,\u001b[49m\u001b[43m \u001b[49m\u001b[38;5;241;43m*\u001b[39;49m\u001b[38;5;241;43m*\u001b[39;49m\u001b[43mkwargs\u001b[49m\u001b[43m)\u001b[49m\n",
      "File \u001b[1;32m~\\AppData\\Local\\Packages\\PythonSoftwareFoundation.Python.3.11_qbz5n2kfra8p0\\LocalCache\\local-packages\\Python311\\site-packages\\altair\\vegalite\\v5\\api.py:1443\u001b[0m, in \u001b[0;36m_selection\u001b[1;34m(type, **kwds)\u001b[0m\n\u001b[0;32m   1440\u001b[0m     msg \u001b[38;5;241m=\u001b[39m \u001b[38;5;124m\"\"\"\u001b[39m\u001b[38;5;124m'\u001b[39m\u001b[38;5;124mtype\u001b[39m\u001b[38;5;124m'\u001b[39m\u001b[38;5;124m must be \u001b[39m\u001b[38;5;124m'\u001b[39m\u001b[38;5;124mpoint\u001b[39m\u001b[38;5;124m'\u001b[39m\u001b[38;5;124m or \u001b[39m\u001b[38;5;124m'\u001b[39m\u001b[38;5;124minterval\u001b[39m\u001b[38;5;124m'\u001b[39m\u001b[38;5;124m\"\"\"\u001b[39m\n\u001b[0;32m   1441\u001b[0m     \u001b[38;5;28;01mraise\u001b[39;00m \u001b[38;5;167;01mValueError\u001b[39;00m(msg)\n\u001b[1;32m-> 1443\u001b[0m \u001b[38;5;28;01mreturn\u001b[39;00m \u001b[43mparam\u001b[49m\u001b[43m(\u001b[49m\u001b[43mselect\u001b[49m\u001b[38;5;241;43m=\u001b[39;49m\u001b[43mselect\u001b[49m\u001b[43m,\u001b[49m\u001b[43m \u001b[49m\u001b[38;5;241;43m*\u001b[39;49m\u001b[38;5;241;43m*\u001b[39;49m\u001b[43mparam_kwds\u001b[49m\u001b[43m)\u001b[49m\n",
      "File \u001b[1;32m~\\AppData\\Local\\Packages\\PythonSoftwareFoundation.Python.3.11_qbz5n2kfra8p0\\LocalCache\\local-packages\\Python311\\site-packages\\altair\\vegalite\\v5\\api.py:1413\u001b[0m, in \u001b[0;36mparam\u001b[1;34m(name, value, bind, empty, expr, **kwds)\u001b[0m\n\u001b[0;32m   1411\u001b[0m     parameter\u001b[38;5;241m.\u001b[39mparam_type \u001b[38;5;241m=\u001b[39m \u001b[38;5;124m\"\u001b[39m\u001b[38;5;124mselection\u001b[39m\u001b[38;5;124m\"\u001b[39m\n\u001b[0;32m   1412\u001b[0m \u001b[38;5;28;01melse\u001b[39;00m:\n\u001b[1;32m-> 1413\u001b[0m     parameter\u001b[38;5;241m.\u001b[39mparam \u001b[38;5;241m=\u001b[39m core\u001b[38;5;241m.\u001b[39mSelectionParameter(\n\u001b[0;32m   1414\u001b[0m         name\u001b[38;5;241m=\u001b[39mparameter\u001b[38;5;241m.\u001b[39mname, bind\u001b[38;5;241m=\u001b[39mbind, value\u001b[38;5;241m=\u001b[39mvalue, expr\u001b[38;5;241m=\u001b[39mexpr, \u001b[38;5;241m*\u001b[39m\u001b[38;5;241m*\u001b[39mkwds\n\u001b[0;32m   1415\u001b[0m     )\n\u001b[0;32m   1416\u001b[0m     parameter\u001b[38;5;241m.\u001b[39mparam_type \u001b[38;5;241m=\u001b[39m \u001b[38;5;124m\"\u001b[39m\u001b[38;5;124mselection\u001b[39m\u001b[38;5;124m\"\u001b[39m\n\u001b[0;32m   1418\u001b[0m \u001b[38;5;28;01mreturn\u001b[39;00m parameter\n",
      "\u001b[1;31mTypeError\u001b[0m: altair.vegalite.v5.schema.core.SelectionParameter() got multiple values for keyword argument 'value'"
     ]
    }
   ],
   "source": [
    "# Seleção de valor único sobre pares [Major_Genre, MPAA_Rating]\n",
    "# Utilizar valores específicos fixados como valores iniciais selecionados\n",
    "selection = alt.selection_single(\n",
    "    name='Select',\n",
    "    fields=['Major_Genre', 'MPAA_Rating'],\n",
    "    init={'Major_Genre': 'Drama', 'MPAA_Rating': 'R'},\n",
    "    bind={'Major_Genre': alt.binding_select(options=genres), 'MPAA_Rating': alt.binding_radio(options=mpaa)}\n",
    ")\n",
    "\n",
    "# scatter plot, modificar a opacidade com base na seleção\n",
    "alt.Chart(movies).mark_circle().add_selection(\n",
    "    selection\n",
    ").encode(\n",
    "    x='Rotten_Tomatoes_Rating:Q',\n",
    "    y='IMDB_Rating:Q',\n",
    "    tooltip='Title:N',\n",
    "    opacity=alt.condition(selection, alt.value(0.75), alt.value(0.05))\n",
    ")"
   ]
  },
  {
   "cell_type": "markdown",
   "id": "da14f9b0",
   "metadata": {
    "id": "issod2BQY9jz"
   },
   "source": [
    "*Fatos curiosos: A classificação PG-13 não existia quando filmes como [Tubarão](https://www.imdb.com/title/tt0073195/) e [Tubarão 2](https://www.imdb.com/title/tt0077766/) foram lançados. O primeiro filme a receber uma classificação PG-13 foi [Amanhecer Violento](https://www.imdb.com/title/tt0087985/), de 1984.*"
   ]
  },
  {
   "cell_type": "markdown",
   "id": "84f63960",
   "metadata": {
    "id": "5lKUh2wj0_-A"
   },
   "source": [
    "### Usando Visualizações como Consultas Dinâmicas\n",
    "\n",
    "Embora os widgets de interface padrão mostrem os valores _possíveis_ para os parâmetros de consulta, eles não visualizam a _distribuição_ desses valores. Também podemos desejar usar interações mais ricas, como seleções de vários valores ou intervalos, em vez de widgets de entrada que selecionam apenas um único valor de cada vez.\n",
    "\n",
    "Para resolver esses problemas, podemos criar gráficos adicionais para visualizar dados e oferecer suporte a consultas dinâmicas. Vamos adicionar um histograma da contagem de filmes por ano e utilizar uma seleção de intervalo para realçar dinamicamente os filmes em períodos de tempo selecionados.\n",
    "\n",
    "*Interaja com o histograma de anos para explorar filmes de diferentes períodos de tempo. Vê alguma evidência de [viés de amostragem](https://en.wikipedia.org/wiki/Sampling_bias) ao longo dos anos? (Qual é a relação entre o ano e as classificações dos críticos?)*.\n",
    "\n",
    "_Os anos vão de 1930 a 2040! Os futuros filmes estão em pré-produção ou  existem erros \"fora de um século\"? Além disso, dependendo do fuso horário em que estamos, há um pequeno aumento em 1969 ou 1970. Porque isso acontece? (Veja o final do notebook para uma explicação!)_\n"
   ]
  },
  {
   "cell_type": "code",
   "execution_count": 14,
   "id": "2655a8d3",
   "metadata": {
    "id": "V4QIMt9v0_-A",
    "outputId": "2181e487-ce0d-45c2-fa7c-7799cdc9c801"
   },
   "outputs": [
    {
     "name": "stderr",
     "output_type": "stream",
     "text": [
      "C:\\Users\\elian\\AppData\\Local\\Temp\\ipykernel_29920\\1468048454.py:6: AltairDeprecationWarning: \n",
      "Deprecated since `altair=5.0.0`. Use add_params instead.\n",
      "  years = alt.Chart(movies).mark_bar().add_selection(\n"
     ]
    },
    {
     "data": {
      "text/html": [
       "\n",
       "<style>\n",
       "  #altair-viz-8b067b8a558b4cebacbb33b3c6540d99.vega-embed {\n",
       "    width: 100%;\n",
       "    display: flex;\n",
       "  }\n",
       "\n",
       "  #altair-viz-8b067b8a558b4cebacbb33b3c6540d99.vega-embed details,\n",
       "  #altair-viz-8b067b8a558b4cebacbb33b3c6540d99.vega-embed details summary {\n",
       "    position: relative;\n",
       "  }\n",
       "</style>\n",
       "<div id=\"altair-viz-8b067b8a558b4cebacbb33b3c6540d99\"></div>\n",
       "<script type=\"text/javascript\">\n",
       "  var VEGA_DEBUG = (typeof VEGA_DEBUG == \"undefined\") ? {} : VEGA_DEBUG;\n",
       "  (function(spec, embedOpt){\n",
       "    let outputDiv = document.currentScript.previousElementSibling;\n",
       "    if (outputDiv.id !== \"altair-viz-8b067b8a558b4cebacbb33b3c6540d99\") {\n",
       "      outputDiv = document.getElementById(\"altair-viz-8b067b8a558b4cebacbb33b3c6540d99\");\n",
       "    }\n",
       "\n",
       "    const paths = {\n",
       "      \"vega\": \"https://cdn.jsdelivr.net/npm/vega@5?noext\",\n",
       "      \"vega-lib\": \"https://cdn.jsdelivr.net/npm/vega-lib?noext\",\n",
       "      \"vega-lite\": \"https://cdn.jsdelivr.net/npm/vega-lite@5.20.1?noext\",\n",
       "      \"vega-embed\": \"https://cdn.jsdelivr.net/npm/vega-embed@6?noext\",\n",
       "    };\n",
       "\n",
       "    function maybeLoadScript(lib, version) {\n",
       "      var key = `${lib.replace(\"-\", \"\")}_version`;\n",
       "      return (VEGA_DEBUG[key] == version) ?\n",
       "        Promise.resolve(paths[lib]) :\n",
       "        new Promise(function(resolve, reject) {\n",
       "          var s = document.createElement('script');\n",
       "          document.getElementsByTagName(\"head\")[0].appendChild(s);\n",
       "          s.async = true;\n",
       "          s.onload = () => {\n",
       "            VEGA_DEBUG[key] = version;\n",
       "            return resolve(paths[lib]);\n",
       "          };\n",
       "          s.onerror = () => reject(`Error loading script: ${paths[lib]}`);\n",
       "          s.src = paths[lib];\n",
       "        });\n",
       "    }\n",
       "\n",
       "    function showError(err) {\n",
       "      outputDiv.innerHTML = `<div class=\"error\" style=\"color:red;\">${err}</div>`;\n",
       "      throw err;\n",
       "    }\n",
       "\n",
       "    function displayChart(vegaEmbed) {\n",
       "      vegaEmbed(outputDiv, spec, embedOpt)\n",
       "        .catch(err => showError(`Javascript Error: ${err.message}<br>This usually means there's a typo in your chart specification. See the javascript console for the full traceback.`));\n",
       "    }\n",
       "\n",
       "    if(typeof define === \"function\" && define.amd) {\n",
       "      requirejs.config({paths});\n",
       "      let deps = [\"vega-embed\"];\n",
       "      require(deps, displayChart, err => showError(`Error loading script: ${err.message}`));\n",
       "    } else {\n",
       "      maybeLoadScript(\"vega\", \"5\")\n",
       "        .then(() => maybeLoadScript(\"vega-lite\", \"5.20.1\"))\n",
       "        .then(() => maybeLoadScript(\"vega-embed\", \"6\"))\n",
       "        .catch(showError)\n",
       "        .then(() => displayChart(vegaEmbed));\n",
       "    }\n",
       "  })({\"config\": {\"view\": {\"continuousWidth\": 300, \"continuousHeight\": 300}}, \"vconcat\": [{\"mark\": {\"type\": \"bar\"}, \"encoding\": {\"x\": {\"field\": \"Release_Date\", \"timeUnit\": \"year\", \"title\": \"Films by Release Year\", \"type\": \"temporal\"}, \"y\": {\"aggregate\": \"count\", \"title\": null, \"type\": \"quantitative\"}}, \"height\": 50, \"name\": \"view_9\", \"width\": 650}, {\"mark\": {\"type\": \"circle\"}, \"encoding\": {\"opacity\": {\"condition\": {\"param\": \"param_10\", \"value\": 0.75}, \"value\": 0.05}, \"tooltip\": {\"field\": \"Title\", \"type\": \"nominal\"}, \"x\": {\"field\": \"Rotten_Tomatoes_Rating\", \"type\": \"quantitative\"}, \"y\": {\"field\": \"IMDB_Rating\", \"type\": \"quantitative\"}}, \"height\": 400, \"width\": 650}], \"data\": {\"url\": \"https://cdn.jsdelivr.net/npm/vega-datasets@1/data/movies.json\"}, \"params\": [{\"name\": \"param_10\", \"select\": {\"type\": \"interval\", \"encodings\": [\"x\"]}, \"views\": [\"view_9\"]}], \"spacing\": 5, \"$schema\": \"https://vega.github.io/schema/vega-lite/v5.20.1.json\"}, {\"mode\": \"vega-lite\"});\n",
       "</script>"
      ],
      "text/plain": [
       "alt.VConcatChart(...)"
      ]
     },
     "execution_count": 14,
     "metadata": {},
     "output_type": "execute_result"
    }
   ],
   "source": [
    "brush = alt.selection_interval(\n",
    "    encodings=['x'] # limitar a seleção aos valores do eixo x (ano)\n",
    ")\n",
    "\n",
    "# histograma de consulta dinâmico\n",
    "years = alt.Chart(movies).mark_bar().add_selection(\n",
    "    brush\n",
    ").encode(\n",
    "    alt.X('year(Release_Date):T', title='Films by Release Year'),\n",
    "    alt.Y('count():Q', title=None)\n",
    ").properties(\n",
    "    width=650,\n",
    "    height=50\n",
    ")\n",
    "\n",
    "# scatter plot, modificar a opacidade com base na seleção\n",
    "ratings = alt.Chart(movies).mark_circle().encode(\n",
    "    x='Rotten_Tomatoes_Rating:Q',\n",
    "    y='IMDB_Rating:Q',\n",
    "    tooltip='Title:N',\n",
    "    opacity=alt.condition(brush, alt.value(0.75), alt.value(0.05))\n",
    ").properties(\n",
    "    width=650,\n",
    "    height=400\n",
    ")\n",
    "\n",
    "alt.vconcat(years, ratings).properties(spacing=5)"
   ]
  },
  {
   "cell_type": "markdown",
   "id": "7f4e22a8",
   "metadata": {
    "id": "OUpNiF_n0_-B"
   },
   "source": [
    "O exemplo acima fornece consultas dinâmicas utilizando uma _seleção vinculada_ entre gráficos:\n",
    "\n",
    "- Criamos uma seleção `interval` (`brush`), e definimos `encodings=['x']` para limitar a seleção apenas ao eixo x, resultando num intervalo de seleção unidimensional.\n",
    "- Registramos o `brush` com o nosso histograma de filmes por ano através de `.add_selection(brush)`.\n",
    "- Usamos `brush` numa codificação condicional para ajustar a opacidade (`opacity`) do scatter plot.\n",
    "\n",
    "Esta técnica de interação de selecionar elementos num gráfico e ver os destaques ligados num ou mais gráficos é conhecida como seleção &amp; ligação ([_brushing &amp; linking_](https://en.wikipedia.org/wiki/Brushing_and_linking))."
   ]
  },
  {
   "cell_type": "markdown",
   "id": "1b50f778",
   "metadata": {
    "id": "nTYE0aNL0_-B"
   },
   "source": [
    "## Panning &amp; Zooming"
   ]
  },
  {
   "cell_type": "markdown",
   "id": "7cc622a6",
   "metadata": {
    "id": "emmrBemV0_-B"
   },
   "source": [
    "O _scatter plot_ da classificação dos filmes é um pouco confuso em alguns sítios, tornando difícil examinar pontos em regiões mais densas. Utilizando as técnicas de interação de _panning_ e _zooming_, podemos inspecionar regiões densas mais de perto.\n",
    "\n",
    "Comecemos pensando em alguma forma de expressar o _panning_ e o _zooming_ utilizando as seleções do Altair. O que define a \"janela de visualização\" de um gráfico? _Domínios de escala dos eixos!_\n",
    "\n",
    "Podemos alterar os domínios de escala para modificar o intervalo visualizado de valores de dados. Para fazer isso interativamente, podemos vincular uma seleção `interval` aos domínios de escala com o código `bind='scales'`. O resultado é que, em vez de uma seleção de intervalo que podemos arrastar e ampliar, podemos arrastar e ampliar toda a área de plotagem!\n",
    "\n",
    "_No gráfico abaixo, clique e arraste para deslocar (traduzir) a visualização, ou role para ampliar (escalar) a visualização. O que é que você pode descobrir sobre a precisão dos valores de classificação fornecidos?_\n"
   ]
  },
  {
   "cell_type": "code",
   "execution_count": 15,
   "id": "5963ee33",
   "metadata": {
    "id": "fuVHPPMf0_-C",
    "outputId": "0fadd3fc-6c85-4ee5-e89e-2ca0085e0b36"
   },
   "outputs": [
    {
     "name": "stderr",
     "output_type": "stream",
     "text": [
      "C:\\Users\\elian\\AppData\\Local\\Temp\\ipykernel_29920\\2910915221.py:1: AltairDeprecationWarning: \n",
      "Deprecated since `altair=5.0.0`. Use add_params instead.\n",
      "  alt.Chart(movies).mark_circle().add_selection(\n"
     ]
    },
    {
     "data": {
      "text/html": [
       "\n",
       "<style>\n",
       "  #altair-viz-3efc95bf57b44ca587034cc015f5bddc.vega-embed {\n",
       "    width: 100%;\n",
       "    display: flex;\n",
       "  }\n",
       "\n",
       "  #altair-viz-3efc95bf57b44ca587034cc015f5bddc.vega-embed details,\n",
       "  #altair-viz-3efc95bf57b44ca587034cc015f5bddc.vega-embed details summary {\n",
       "    position: relative;\n",
       "  }\n",
       "</style>\n",
       "<div id=\"altair-viz-3efc95bf57b44ca587034cc015f5bddc\"></div>\n",
       "<script type=\"text/javascript\">\n",
       "  var VEGA_DEBUG = (typeof VEGA_DEBUG == \"undefined\") ? {} : VEGA_DEBUG;\n",
       "  (function(spec, embedOpt){\n",
       "    let outputDiv = document.currentScript.previousElementSibling;\n",
       "    if (outputDiv.id !== \"altair-viz-3efc95bf57b44ca587034cc015f5bddc\") {\n",
       "      outputDiv = document.getElementById(\"altair-viz-3efc95bf57b44ca587034cc015f5bddc\");\n",
       "    }\n",
       "\n",
       "    const paths = {\n",
       "      \"vega\": \"https://cdn.jsdelivr.net/npm/vega@5?noext\",\n",
       "      \"vega-lib\": \"https://cdn.jsdelivr.net/npm/vega-lib?noext\",\n",
       "      \"vega-lite\": \"https://cdn.jsdelivr.net/npm/vega-lite@5.20.1?noext\",\n",
       "      \"vega-embed\": \"https://cdn.jsdelivr.net/npm/vega-embed@6?noext\",\n",
       "    };\n",
       "\n",
       "    function maybeLoadScript(lib, version) {\n",
       "      var key = `${lib.replace(\"-\", \"\")}_version`;\n",
       "      return (VEGA_DEBUG[key] == version) ?\n",
       "        Promise.resolve(paths[lib]) :\n",
       "        new Promise(function(resolve, reject) {\n",
       "          var s = document.createElement('script');\n",
       "          document.getElementsByTagName(\"head\")[0].appendChild(s);\n",
       "          s.async = true;\n",
       "          s.onload = () => {\n",
       "            VEGA_DEBUG[key] = version;\n",
       "            return resolve(paths[lib]);\n",
       "          };\n",
       "          s.onerror = () => reject(`Error loading script: ${paths[lib]}`);\n",
       "          s.src = paths[lib];\n",
       "        });\n",
       "    }\n",
       "\n",
       "    function showError(err) {\n",
       "      outputDiv.innerHTML = `<div class=\"error\" style=\"color:red;\">${err}</div>`;\n",
       "      throw err;\n",
       "    }\n",
       "\n",
       "    function displayChart(vegaEmbed) {\n",
       "      vegaEmbed(outputDiv, spec, embedOpt)\n",
       "        .catch(err => showError(`Javascript Error: ${err.message}<br>This usually means there's a typo in your chart specification. See the javascript console for the full traceback.`));\n",
       "    }\n",
       "\n",
       "    if(typeof define === \"function\" && define.amd) {\n",
       "      requirejs.config({paths});\n",
       "      let deps = [\"vega-embed\"];\n",
       "      require(deps, displayChart, err => showError(`Error loading script: ${err.message}`));\n",
       "    } else {\n",
       "      maybeLoadScript(\"vega\", \"5\")\n",
       "        .then(() => maybeLoadScript(\"vega-lite\", \"5.20.1\"))\n",
       "        .then(() => maybeLoadScript(\"vega-embed\", \"6\"))\n",
       "        .catch(showError)\n",
       "        .then(() => displayChart(vegaEmbed));\n",
       "    }\n",
       "  })({\"config\": {\"view\": {\"continuousWidth\": 300, \"continuousHeight\": 300}}, \"data\": {\"url\": \"https://cdn.jsdelivr.net/npm/vega-datasets@1/data/movies.json\"}, \"mark\": {\"type\": \"circle\"}, \"encoding\": {\"tooltip\": [{\"field\": \"Title\", \"type\": \"nominal\"}, {\"field\": \"Release_Date\", \"type\": \"nominal\"}, {\"field\": \"IMDB_Rating\", \"type\": \"quantitative\"}, {\"field\": \"Rotten_Tomatoes_Rating\", \"type\": \"quantitative\"}], \"x\": {\"field\": \"Rotten_Tomatoes_Rating\", \"type\": \"quantitative\"}, \"y\": {\"axis\": {\"minExtent\": 30}, \"field\": \"IMDB_Rating\", \"type\": \"quantitative\"}}, \"height\": 400, \"params\": [{\"name\": \"param_11\", \"select\": {\"type\": \"interval\"}, \"bind\": \"scales\"}], \"width\": 600, \"$schema\": \"https://vega.github.io/schema/vega-lite/v5.20.1.json\"}, {\"mode\": \"vega-lite\"});\n",
       "</script>"
      ],
      "text/plain": [
       "alt.Chart(...)"
      ]
     },
     "execution_count": 15,
     "metadata": {},
     "output_type": "execute_result"
    }
   ],
   "source": [
    "alt.Chart(movies).mark_circle().add_selection(\n",
    "    alt.selection_interval(bind='scales')\n",
    ").encode(\n",
    "    x='Rotten_Tomatoes_Rating:Q',\n",
    "    y=alt.Y('IMDB_Rating:Q', axis=alt.Axis(minExtent=30)), # utilizar a extensão mínima para estabilizar a colocação do título do eixo\n",
    "    tooltip=['Title:N', 'Release_Date:N', 'IMDB_Rating:Q', 'Rotten_Tomatoes_Rating:Q']\n",
    ").properties(\n",
    "    width=600,\n",
    "    height=400\n",
    ")"
   ]
  },
  {
   "cell_type": "markdown",
   "id": "87d86584",
   "metadata": {
    "id": "xLjbbV8z0_-C"
   },
   "source": [
    "Ao fazer _zooming_, podemos ver que os valores de classificação têm uma precisão limitada! As classificações do Rotten Tomatoes são números inteiros, enquanto as classificações do IMDB são truncadas em décimos. Como resultado, existe uma sobreposição de gráficos mesmo quando fazemos zoom, com vários filmes compartilhando os mesmos valores de classificação.\n",
    "\n",
    "Lendo o código acima, você pode notar o código `alt.Axis(minExtent=30)` no canal de codificação `y`. O parâmetro `minExtent` garante que uma quantidade mínima de espaço seja reservada para os ticks e rótulos do eixo. Por que fazer isso? Quando fazemos pan e zoom, os rótulos dos eixos podem mudar e fazer com que a posição do título do eixo se desloque. Ao definir uma extensão mínima, podemos reduzir os movimentos de distração no gráfico. Tente alterar o valor de `minExtent`, por exemplo, definindo-o como zero, e depois diminua o zoom para ver o que acontece quando rótulos de eixo mais longos entram na visualização.\n",
    "\n",
    "O Altair também inclui uma forma abreviada de adicionar _panning_ e _zooming_ a um gráfico. Ao invés de criar diretamente uma seleção, você pode chamar `.interactive()` para que o Altair gere automaticamente uma seleção de intervalos vinculada às escalas do gráfico:\n"
   ]
  },
  {
   "cell_type": "code",
   "execution_count": 16,
   "id": "6fd54bde",
   "metadata": {
    "id": "b-BRyk9n0_-D",
    "outputId": "d1d9a98f-7aae-43ed-9ed0-3ee49de3ba18"
   },
   "outputs": [
    {
     "data": {
      "text/html": [
       "\n",
       "<style>\n",
       "  #altair-viz-d9de4af9cbb84bce92cb79caacd3ccb9.vega-embed {\n",
       "    width: 100%;\n",
       "    display: flex;\n",
       "  }\n",
       "\n",
       "  #altair-viz-d9de4af9cbb84bce92cb79caacd3ccb9.vega-embed details,\n",
       "  #altair-viz-d9de4af9cbb84bce92cb79caacd3ccb9.vega-embed details summary {\n",
       "    position: relative;\n",
       "  }\n",
       "</style>\n",
       "<div id=\"altair-viz-d9de4af9cbb84bce92cb79caacd3ccb9\"></div>\n",
       "<script type=\"text/javascript\">\n",
       "  var VEGA_DEBUG = (typeof VEGA_DEBUG == \"undefined\") ? {} : VEGA_DEBUG;\n",
       "  (function(spec, embedOpt){\n",
       "    let outputDiv = document.currentScript.previousElementSibling;\n",
       "    if (outputDiv.id !== \"altair-viz-d9de4af9cbb84bce92cb79caacd3ccb9\") {\n",
       "      outputDiv = document.getElementById(\"altair-viz-d9de4af9cbb84bce92cb79caacd3ccb9\");\n",
       "    }\n",
       "\n",
       "    const paths = {\n",
       "      \"vega\": \"https://cdn.jsdelivr.net/npm/vega@5?noext\",\n",
       "      \"vega-lib\": \"https://cdn.jsdelivr.net/npm/vega-lib?noext\",\n",
       "      \"vega-lite\": \"https://cdn.jsdelivr.net/npm/vega-lite@5.20.1?noext\",\n",
       "      \"vega-embed\": \"https://cdn.jsdelivr.net/npm/vega-embed@6?noext\",\n",
       "    };\n",
       "\n",
       "    function maybeLoadScript(lib, version) {\n",
       "      var key = `${lib.replace(\"-\", \"\")}_version`;\n",
       "      return (VEGA_DEBUG[key] == version) ?\n",
       "        Promise.resolve(paths[lib]) :\n",
       "        new Promise(function(resolve, reject) {\n",
       "          var s = document.createElement('script');\n",
       "          document.getElementsByTagName(\"head\")[0].appendChild(s);\n",
       "          s.async = true;\n",
       "          s.onload = () => {\n",
       "            VEGA_DEBUG[key] = version;\n",
       "            return resolve(paths[lib]);\n",
       "          };\n",
       "          s.onerror = () => reject(`Error loading script: ${paths[lib]}`);\n",
       "          s.src = paths[lib];\n",
       "        });\n",
       "    }\n",
       "\n",
       "    function showError(err) {\n",
       "      outputDiv.innerHTML = `<div class=\"error\" style=\"color:red;\">${err}</div>`;\n",
       "      throw err;\n",
       "    }\n",
       "\n",
       "    function displayChart(vegaEmbed) {\n",
       "      vegaEmbed(outputDiv, spec, embedOpt)\n",
       "        .catch(err => showError(`Javascript Error: ${err.message}<br>This usually means there's a typo in your chart specification. See the javascript console for the full traceback.`));\n",
       "    }\n",
       "\n",
       "    if(typeof define === \"function\" && define.amd) {\n",
       "      requirejs.config({paths});\n",
       "      let deps = [\"vega-embed\"];\n",
       "      require(deps, displayChart, err => showError(`Error loading script: ${err.message}`));\n",
       "    } else {\n",
       "      maybeLoadScript(\"vega\", \"5\")\n",
       "        .then(() => maybeLoadScript(\"vega-lite\", \"5.20.1\"))\n",
       "        .then(() => maybeLoadScript(\"vega-embed\", \"6\"))\n",
       "        .catch(showError)\n",
       "        .then(() => displayChart(vegaEmbed));\n",
       "    }\n",
       "  })({\"config\": {\"view\": {\"continuousWidth\": 300, \"continuousHeight\": 300}}, \"data\": {\"url\": \"https://cdn.jsdelivr.net/npm/vega-datasets@1/data/movies.json\"}, \"mark\": {\"type\": \"circle\"}, \"encoding\": {\"tooltip\": [{\"field\": \"Title\", \"type\": \"nominal\"}, {\"field\": \"Release_Date\", \"type\": \"nominal\"}, {\"field\": \"IMDB_Rating\", \"type\": \"quantitative\"}, {\"field\": \"Rotten_Tomatoes_Rating\", \"type\": \"quantitative\"}], \"x\": {\"field\": \"Rotten_Tomatoes_Rating\", \"type\": \"quantitative\"}, \"y\": {\"axis\": {\"minExtent\": 30}, \"field\": \"IMDB_Rating\", \"type\": \"quantitative\"}}, \"height\": 400, \"params\": [{\"name\": \"param_12\", \"select\": {\"type\": \"interval\", \"encodings\": [\"x\", \"y\"]}, \"bind\": \"scales\"}], \"width\": 600, \"$schema\": \"https://vega.github.io/schema/vega-lite/v5.20.1.json\"}, {\"mode\": \"vega-lite\"});\n",
       "</script>"
      ],
      "text/plain": [
       "alt.Chart(...)"
      ]
     },
     "execution_count": 16,
     "metadata": {},
     "output_type": "execute_result"
    }
   ],
   "source": [
    "alt.Chart(movies).mark_circle().encode(\n",
    "    x='Rotten_Tomatoes_Rating:Q',\n",
    "    y=alt.Y('IMDB_Rating:Q', axis=alt.Axis(minExtent=30)), # utilizar a extensão mínima para estabilizar a colocação do título do eixo\n",
    "    tooltip=['Title:N', 'Release_Date:N', 'IMDB_Rating:Q', 'Rotten_Tomatoes_Rating:Q']\n",
    ").properties(\n",
    "    width=600,\n",
    "    height=400\n",
    ").interactive()"
   ]
  },
  {
   "cell_type": "markdown",
   "id": "7db55b59",
   "metadata": {
    "id": "zed3xRz30_-E"
   },
   "source": [
    "Por padrāo, as ligações de escala para seleções incluem os canais de codificação `x` e `y`. E se quisermos limitar o _panning_ e o _zoomimg_ ao longo de uma única dimensão? Podemos chamar `encodings=['x']` para restringir a seleção apenas ao canal `x`:\n"
   ]
  },
  {
   "cell_type": "code",
   "execution_count": 17,
   "id": "efe07558",
   "metadata": {
    "id": "FHj8zpb-0_-E",
    "outputId": "a9618229-fe87-4df5-fa5c-cb9fba547e3c"
   },
   "outputs": [
    {
     "name": "stderr",
     "output_type": "stream",
     "text": [
      "C:\\Users\\elian\\AppData\\Local\\Temp\\ipykernel_29920\\722294318.py:1: AltairDeprecationWarning: \n",
      "Deprecated since `altair=5.0.0`. Use add_params instead.\n",
      "  alt.Chart(movies).mark_circle().add_selection(\n"
     ]
    },
    {
     "data": {
      "text/html": [
       "\n",
       "<style>\n",
       "  #altair-viz-b5764e92ac4f4bab997a6930bae8e988.vega-embed {\n",
       "    width: 100%;\n",
       "    display: flex;\n",
       "  }\n",
       "\n",
       "  #altair-viz-b5764e92ac4f4bab997a6930bae8e988.vega-embed details,\n",
       "  #altair-viz-b5764e92ac4f4bab997a6930bae8e988.vega-embed details summary {\n",
       "    position: relative;\n",
       "  }\n",
       "</style>\n",
       "<div id=\"altair-viz-b5764e92ac4f4bab997a6930bae8e988\"></div>\n",
       "<script type=\"text/javascript\">\n",
       "  var VEGA_DEBUG = (typeof VEGA_DEBUG == \"undefined\") ? {} : VEGA_DEBUG;\n",
       "  (function(spec, embedOpt){\n",
       "    let outputDiv = document.currentScript.previousElementSibling;\n",
       "    if (outputDiv.id !== \"altair-viz-b5764e92ac4f4bab997a6930bae8e988\") {\n",
       "      outputDiv = document.getElementById(\"altair-viz-b5764e92ac4f4bab997a6930bae8e988\");\n",
       "    }\n",
       "\n",
       "    const paths = {\n",
       "      \"vega\": \"https://cdn.jsdelivr.net/npm/vega@5?noext\",\n",
       "      \"vega-lib\": \"https://cdn.jsdelivr.net/npm/vega-lib?noext\",\n",
       "      \"vega-lite\": \"https://cdn.jsdelivr.net/npm/vega-lite@5.20.1?noext\",\n",
       "      \"vega-embed\": \"https://cdn.jsdelivr.net/npm/vega-embed@6?noext\",\n",
       "    };\n",
       "\n",
       "    function maybeLoadScript(lib, version) {\n",
       "      var key = `${lib.replace(\"-\", \"\")}_version`;\n",
       "      return (VEGA_DEBUG[key] == version) ?\n",
       "        Promise.resolve(paths[lib]) :\n",
       "        new Promise(function(resolve, reject) {\n",
       "          var s = document.createElement('script');\n",
       "          document.getElementsByTagName(\"head\")[0].appendChild(s);\n",
       "          s.async = true;\n",
       "          s.onload = () => {\n",
       "            VEGA_DEBUG[key] = version;\n",
       "            return resolve(paths[lib]);\n",
       "          };\n",
       "          s.onerror = () => reject(`Error loading script: ${paths[lib]}`);\n",
       "          s.src = paths[lib];\n",
       "        });\n",
       "    }\n",
       "\n",
       "    function showError(err) {\n",
       "      outputDiv.innerHTML = `<div class=\"error\" style=\"color:red;\">${err}</div>`;\n",
       "      throw err;\n",
       "    }\n",
       "\n",
       "    function displayChart(vegaEmbed) {\n",
       "      vegaEmbed(outputDiv, spec, embedOpt)\n",
       "        .catch(err => showError(`Javascript Error: ${err.message}<br>This usually means there's a typo in your chart specification. See the javascript console for the full traceback.`));\n",
       "    }\n",
       "\n",
       "    if(typeof define === \"function\" && define.amd) {\n",
       "      requirejs.config({paths});\n",
       "      let deps = [\"vega-embed\"];\n",
       "      require(deps, displayChart, err => showError(`Error loading script: ${err.message}`));\n",
       "    } else {\n",
       "      maybeLoadScript(\"vega\", \"5\")\n",
       "        .then(() => maybeLoadScript(\"vega-lite\", \"5.20.1\"))\n",
       "        .then(() => maybeLoadScript(\"vega-embed\", \"6\"))\n",
       "        .catch(showError)\n",
       "        .then(() => displayChart(vegaEmbed));\n",
       "    }\n",
       "  })({\"config\": {\"view\": {\"continuousWidth\": 300, \"continuousHeight\": 300}}, \"data\": {\"url\": \"https://cdn.jsdelivr.net/npm/vega-datasets@1/data/movies.json\"}, \"mark\": {\"type\": \"circle\"}, \"encoding\": {\"tooltip\": [{\"field\": \"Title\", \"type\": \"nominal\"}, {\"field\": \"Release_Date\", \"type\": \"nominal\"}, {\"field\": \"IMDB_Rating\", \"type\": \"quantitative\"}, {\"field\": \"Rotten_Tomatoes_Rating\", \"type\": \"quantitative\"}], \"x\": {\"field\": \"Rotten_Tomatoes_Rating\", \"type\": \"quantitative\"}, \"y\": {\"axis\": {\"minExtent\": 30}, \"field\": \"IMDB_Rating\", \"type\": \"quantitative\"}}, \"height\": 400, \"params\": [{\"name\": \"param_13\", \"select\": {\"type\": \"interval\", \"encodings\": [\"x\"]}, \"bind\": \"scales\"}], \"width\": 600, \"$schema\": \"https://vega.github.io/schema/vega-lite/v5.20.1.json\"}, {\"mode\": \"vega-lite\"});\n",
       "</script>"
      ],
      "text/plain": [
       "alt.Chart(...)"
      ]
     },
     "execution_count": 17,
     "metadata": {},
     "output_type": "execute_result"
    }
   ],
   "source": [
    "alt.Chart(movies).mark_circle().add_selection(\n",
    "    alt.selection_interval(bind='scales', encodings=['x'])\n",
    ").encode(\n",
    "    x='Rotten_Tomatoes_Rating:Q',\n",
    "    y=alt.Y('IMDB_Rating:Q', axis=alt.Axis(minExtent=30)), # utilizar a extensão mínima para estabilizar a colocação do título do eixo\n",
    "    tooltip=['Title:N', 'Release_Date:N', 'IMDB_Rating:Q', 'Rotten_Tomatoes_Rating:Q']\n",
    ").properties(\n",
    "    width=600,\n",
    "    height=400\n",
    ")"
   ]
  },
  {
   "cell_type": "markdown",
   "id": "9a1691c2",
   "metadata": {
    "id": "56q0CjEz0_-F"
   },
   "source": [
    "_Quando se faz zooming apenas ao longo de um único eixo, a forma dos dados visualizados pode mudar, afetando potencialmente a nossa perceção das relações nos dados. [Escolher uma proporção de aspecto adequada](http://vis.stanford.edu/papers/arclength-banking) é uma preocupação importante do design de visualização!_\n"
   ]
  },
  {
   "cell_type": "markdown",
   "id": "4c991f3b",
   "metadata": {
    "id": "q6juV_4I0_-F"
   },
   "source": [
    "## Navegação: Visão Geral + Detalhe"
   ]
  },
  {
   "cell_type": "markdown",
   "id": "ee24c727",
   "metadata": {
    "id": "OyO7T2bV0_-M"
   },
   "source": [
    "Ao usar _panning_ e _zooming_, ajustamos diretamente a \"janela de visualização\" de um gráfico. A estratégia de navegação relacionada de _visão geral + detalhe_ utiliza, em vez disso, uma visão geral de exibição para mostrar _todos_ os dados, ao mesmo tempo que suporta seleções pan e zoom em uma exibição de foco separado.\n",
    "\n",
    "Abaixo temos dois gráficos de área que mostram uma década de flutuações de preços para o índice de ações S&amp;P 500. Inicialmente, os dois gráficos mostram o mesmo intervalo de dados. Clique e arraste no gráfico de visão geral inferior para atualizar a exibição de foco e examinar intervalos de tempo específicos.\n"
   ]
  },
  {
   "cell_type": "code",
   "execution_count": 18,
   "id": "309a7b87",
   "metadata": {
    "id": "22VeWOTR0_-N",
    "outputId": "46d48393-1319-4167-deee-1326affab4dc"
   },
   "outputs": [
    {
     "name": "stderr",
     "output_type": "stream",
     "text": [
      "C:\\Users\\elian\\AppData\\Local\\Temp\\ipykernel_29920\\342876620.py:12: AltairDeprecationWarning: \n",
      "Deprecated since `altair=5.0.0`. Use add_params instead.\n",
      "  base.add_selection(brush).properties(height=60),\n"
     ]
    },
    {
     "data": {
      "text/html": [
       "\n",
       "<style>\n",
       "  #altair-viz-ad87381e4b82457a9dcd4840e61bceb6.vega-embed {\n",
       "    width: 100%;\n",
       "    display: flex;\n",
       "  }\n",
       "\n",
       "  #altair-viz-ad87381e4b82457a9dcd4840e61bceb6.vega-embed details,\n",
       "  #altair-viz-ad87381e4b82457a9dcd4840e61bceb6.vega-embed details summary {\n",
       "    position: relative;\n",
       "  }\n",
       "</style>\n",
       "<div id=\"altair-viz-ad87381e4b82457a9dcd4840e61bceb6\"></div>\n",
       "<script type=\"text/javascript\">\n",
       "  var VEGA_DEBUG = (typeof VEGA_DEBUG == \"undefined\") ? {} : VEGA_DEBUG;\n",
       "  (function(spec, embedOpt){\n",
       "    let outputDiv = document.currentScript.previousElementSibling;\n",
       "    if (outputDiv.id !== \"altair-viz-ad87381e4b82457a9dcd4840e61bceb6\") {\n",
       "      outputDiv = document.getElementById(\"altair-viz-ad87381e4b82457a9dcd4840e61bceb6\");\n",
       "    }\n",
       "\n",
       "    const paths = {\n",
       "      \"vega\": \"https://cdn.jsdelivr.net/npm/vega@5?noext\",\n",
       "      \"vega-lib\": \"https://cdn.jsdelivr.net/npm/vega-lib?noext\",\n",
       "      \"vega-lite\": \"https://cdn.jsdelivr.net/npm/vega-lite@5.20.1?noext\",\n",
       "      \"vega-embed\": \"https://cdn.jsdelivr.net/npm/vega-embed@6?noext\",\n",
       "    };\n",
       "\n",
       "    function maybeLoadScript(lib, version) {\n",
       "      var key = `${lib.replace(\"-\", \"\")}_version`;\n",
       "      return (VEGA_DEBUG[key] == version) ?\n",
       "        Promise.resolve(paths[lib]) :\n",
       "        new Promise(function(resolve, reject) {\n",
       "          var s = document.createElement('script');\n",
       "          document.getElementsByTagName(\"head\")[0].appendChild(s);\n",
       "          s.async = true;\n",
       "          s.onload = () => {\n",
       "            VEGA_DEBUG[key] = version;\n",
       "            return resolve(paths[lib]);\n",
       "          };\n",
       "          s.onerror = () => reject(`Error loading script: ${paths[lib]}`);\n",
       "          s.src = paths[lib];\n",
       "        });\n",
       "    }\n",
       "\n",
       "    function showError(err) {\n",
       "      outputDiv.innerHTML = `<div class=\"error\" style=\"color:red;\">${err}</div>`;\n",
       "      throw err;\n",
       "    }\n",
       "\n",
       "    function displayChart(vegaEmbed) {\n",
       "      vegaEmbed(outputDiv, spec, embedOpt)\n",
       "        .catch(err => showError(`Javascript Error: ${err.message}<br>This usually means there's a typo in your chart specification. See the javascript console for the full traceback.`));\n",
       "    }\n",
       "\n",
       "    if(typeof define === \"function\" && define.amd) {\n",
       "      requirejs.config({paths});\n",
       "      let deps = [\"vega-embed\"];\n",
       "      require(deps, displayChart, err => showError(`Error loading script: ${err.message}`));\n",
       "    } else {\n",
       "      maybeLoadScript(\"vega\", \"5\")\n",
       "        .then(() => maybeLoadScript(\"vega-lite\", \"5.20.1\"))\n",
       "        .then(() => maybeLoadScript(\"vega-embed\", \"6\"))\n",
       "        .catch(showError)\n",
       "        .then(() => displayChart(vegaEmbed));\n",
       "    }\n",
       "  })({\"config\": {\"view\": {\"continuousWidth\": 300, \"continuousHeight\": 300}}, \"vconcat\": [{\"mark\": {\"type\": \"area\"}, \"encoding\": {\"x\": {\"field\": \"date\", \"scale\": {\"domain\": {\"param\": \"param_14\"}}, \"title\": null, \"type\": \"temporal\"}, \"y\": {\"field\": \"price\", \"type\": \"quantitative\"}}, \"width\": 700}, {\"mark\": {\"type\": \"area\"}, \"encoding\": {\"x\": {\"field\": \"date\", \"title\": null, \"type\": \"temporal\"}, \"y\": {\"field\": \"price\", \"type\": \"quantitative\"}}, \"height\": 60, \"name\": \"view_10\", \"width\": 700}], \"data\": {\"url\": \"https://cdn.jsdelivr.net/npm/vega-datasets@1/data/sp500.csv\"}, \"params\": [{\"name\": \"param_14\", \"select\": {\"type\": \"interval\", \"encodings\": [\"x\"]}, \"views\": [\"view_10\"]}], \"$schema\": \"https://vega.github.io/schema/vega-lite/v5.20.1.json\"}, {\"mode\": \"vega-lite\"});\n",
       "</script>"
      ],
      "text/plain": [
       "alt.VConcatChart(...)"
      ]
     },
     "execution_count": 18,
     "metadata": {},
     "output_type": "execute_result"
    }
   ],
   "source": [
    "brush = alt.selection_interval(encodings=['x']);\n",
    "\n",
    "base = alt.Chart().mark_area().encode(\n",
    "    alt.X('date:T', title=None),\n",
    "    alt.Y('price:Q')\n",
    ").properties(\n",
    "    width=700\n",
    ")\n",
    "\n",
    "alt.vconcat(\n",
    "    base.encode(alt.X('date:T', title=None, scale=alt.Scale(domain=brush))),\n",
    "    base.add_selection(brush).properties(height=60),\n",
    "    data=sp500\n",
    ")"
   ]
  },
  {
   "cell_type": "markdown",
   "id": "266fceac",
   "metadata": {
    "id": "MseyOSQL0_-O"
   },
   "source": [
    "Ao contrário do nosso caso anterior, panning &amp; zooming, aqui não queremos vincular uma seleção diretamente às escalas de um único gráfico interativo. Em vez disso, queremos vincular a seleção a um domínio de escala em _outro_ gráfico. Para isso, atualizamos o canal de codificação `x` do nosso gráfico de foco, definindo a propriedade domínio (`domain`) da escala para fazer referência à nossa seleção `brush`. Se nenhum intervalo for definido (a seleção está vazia), o Altair ignora o _brush_ e usa os dados subjacentes para determinar o domínio. Quando um intervalo de _brush_ é criado, o Altair o utiliza como o domínio da escala para o gráfico de foco."
   ]
  },
  {
   "cell_type": "markdown",
   "id": "c9ad420c",
   "metadata": {
    "id": "680zUInS2WzM"
   },
   "source": [
    "# 6.6. Detalhes sob demanda\n",
    "\n",
    "Uma vez que identificamos pontos de interesse em uma visualização, muitas vezes queremos saber mais sobre eles. _Detalhes sob demanda_ refere-se à capacidade de consultar interativamente mais informações sobre valores selecionados. As _tooltips_ são um meio útil para fornecer esses detalhes sob demanda. No entanto, as tooltips geralmente exibem informações apenas para um único ponto de dados por vez. Como podemos mostrar mais?\n",
    "\n",
    "O gráfico de dispersão das avaliações de filmes inclui vários outliers potencialmente interessantes, onde as classificações do Rotten Tomatoes e do IMDB divergem. Vamos criar um gráfico que nos permita selecionar interativamente pontos e exibir seus rótulos. Para ativar a consulta de filtro tanto na interação de passar o mouse quanto no clique, usaremos o [operador de composição do Altair](https://altair-viz.github.io/user_guide/interactions.html#composing-multiple-selections) `|` (\"ou\").\n",
    "\n",
    "_Passe o mouse sobre os pontos no gráfico de dispersão abaixo para ver um destaque e um rótulo de título. Pressione Shift e clique nos pontos para tornar as anotações mais persistentes e visualizar vários rótulos ao mesmo tempo. Quais filmes são amados pelos críticos do Rotten Tomatoes, mas não pelo público geral no IMDB (ou vice-versa)? Veja se consegue encontrar possíveis erros, como dois filmes diferentes com o mesmo nome que foram acidentalmente combinados!_"
   ]
  },
  {
   "cell_type": "code",
   "execution_count": 19,
   "id": "e7b7d565",
   "metadata": {
    "colab": {
     "base_uri": "https://localhost:8080/",
     "height": 674
    },
    "id": "wPMkS7Lo3Alq",
    "outputId": "b31ab2ad-2632-4690-8def-7de2c2e5e394"
   },
   "outputs": [
    {
     "name": "stderr",
     "output_type": "stream",
     "text": [
      "C:\\Users\\elian\\AppData\\Local\\Temp\\ipykernel_29920\\181612101.py:1: AltairDeprecationWarning: \n",
      "Deprecated since `altair=5.0.0`. Use selection_point instead.\n",
      "  hover = alt.selection_single(\n",
      "C:\\Users\\elian\\AppData\\Local\\Temp\\ipykernel_29920\\181612101.py:7: AltairDeprecationWarning: \n",
      "Deprecated since `altair=5.0.0`. Use selection_point instead.\n",
      "  click = alt.selection_multi(\n",
      "C:\\Users\\elian\\AppData\\Local\\Temp\\ipykernel_29920\\181612101.py:24: AltairDeprecationWarning: \n",
      "Deprecated since `altair=5.0.0`. Use add_params instead.\n",
      "  plot.add_selection(hover).add_selection(click),\n"
     ]
    },
    {
     "data": {
      "text/html": [
       "\n",
       "<style>\n",
       "  #altair-viz-d1a1a16e32504aa08138e2a9158b0f94.vega-embed {\n",
       "    width: 100%;\n",
       "    display: flex;\n",
       "  }\n",
       "\n",
       "  #altair-viz-d1a1a16e32504aa08138e2a9158b0f94.vega-embed details,\n",
       "  #altair-viz-d1a1a16e32504aa08138e2a9158b0f94.vega-embed details summary {\n",
       "    position: relative;\n",
       "  }\n",
       "</style>\n",
       "<div id=\"altair-viz-d1a1a16e32504aa08138e2a9158b0f94\"></div>\n",
       "<script type=\"text/javascript\">\n",
       "  var VEGA_DEBUG = (typeof VEGA_DEBUG == \"undefined\") ? {} : VEGA_DEBUG;\n",
       "  (function(spec, embedOpt){\n",
       "    let outputDiv = document.currentScript.previousElementSibling;\n",
       "    if (outputDiv.id !== \"altair-viz-d1a1a16e32504aa08138e2a9158b0f94\") {\n",
       "      outputDiv = document.getElementById(\"altair-viz-d1a1a16e32504aa08138e2a9158b0f94\");\n",
       "    }\n",
       "\n",
       "    const paths = {\n",
       "      \"vega\": \"https://cdn.jsdelivr.net/npm/vega@5?noext\",\n",
       "      \"vega-lib\": \"https://cdn.jsdelivr.net/npm/vega-lib?noext\",\n",
       "      \"vega-lite\": \"https://cdn.jsdelivr.net/npm/vega-lite@5.20.1?noext\",\n",
       "      \"vega-embed\": \"https://cdn.jsdelivr.net/npm/vega-embed@6?noext\",\n",
       "    };\n",
       "\n",
       "    function maybeLoadScript(lib, version) {\n",
       "      var key = `${lib.replace(\"-\", \"\")}_version`;\n",
       "      return (VEGA_DEBUG[key] == version) ?\n",
       "        Promise.resolve(paths[lib]) :\n",
       "        new Promise(function(resolve, reject) {\n",
       "          var s = document.createElement('script');\n",
       "          document.getElementsByTagName(\"head\")[0].appendChild(s);\n",
       "          s.async = true;\n",
       "          s.onload = () => {\n",
       "            VEGA_DEBUG[key] = version;\n",
       "            return resolve(paths[lib]);\n",
       "          };\n",
       "          s.onerror = () => reject(`Error loading script: ${paths[lib]}`);\n",
       "          s.src = paths[lib];\n",
       "        });\n",
       "    }\n",
       "\n",
       "    function showError(err) {\n",
       "      outputDiv.innerHTML = `<div class=\"error\" style=\"color:red;\">${err}</div>`;\n",
       "      throw err;\n",
       "    }\n",
       "\n",
       "    function displayChart(vegaEmbed) {\n",
       "      vegaEmbed(outputDiv, spec, embedOpt)\n",
       "        .catch(err => showError(`Javascript Error: ${err.message}<br>This usually means there's a typo in your chart specification. See the javascript console for the full traceback.`));\n",
       "    }\n",
       "\n",
       "    if(typeof define === \"function\" && define.amd) {\n",
       "      requirejs.config({paths});\n",
       "      let deps = [\"vega-embed\"];\n",
       "      require(deps, displayChart, err => showError(`Error loading script: ${err.message}`));\n",
       "    } else {\n",
       "      maybeLoadScript(\"vega\", \"5\")\n",
       "        .then(() => maybeLoadScript(\"vega-lite\", \"5.20.1\"))\n",
       "        .then(() => maybeLoadScript(\"vega-embed\", \"6\"))\n",
       "        .catch(showError)\n",
       "        .then(() => displayChart(vegaEmbed));\n",
       "    }\n",
       "  })({\"config\": {\"view\": {\"continuousWidth\": 300, \"continuousHeight\": 300}}, \"layer\": [{\"mark\": {\"type\": \"circle\"}, \"encoding\": {\"x\": {\"field\": \"Rotten_Tomatoes_Rating\", \"type\": \"quantitative\"}, \"y\": {\"field\": \"IMDB_Rating\", \"type\": \"quantitative\"}}, \"name\": \"view_11\"}, {\"mark\": {\"type\": \"point\", \"size\": 100, \"stroke\": \"firebrick\", \"strokeWidth\": 1}, \"encoding\": {\"x\": {\"field\": \"Rotten_Tomatoes_Rating\", \"type\": \"quantitative\"}, \"y\": {\"field\": \"IMDB_Rating\", \"type\": \"quantitative\"}}, \"transform\": [{\"filter\": {\"or\": [{\"param\": \"param_15\"}, {\"param\": \"param_16\"}]}}]}, {\"mark\": {\"type\": \"text\", \"align\": \"right\", \"dx\": 4, \"dy\": -8, \"stroke\": \"white\", \"strokeWidth\": 2}, \"encoding\": {\"text\": {\"field\": \"Title\", \"type\": \"nominal\"}, \"x\": {\"field\": \"Rotten_Tomatoes_Rating\", \"type\": \"quantitative\"}, \"y\": {\"field\": \"IMDB_Rating\", \"type\": \"quantitative\"}}, \"transform\": [{\"filter\": {\"or\": [{\"param\": \"param_15\"}, {\"param\": \"param_16\"}]}}]}, {\"mark\": {\"type\": \"text\", \"align\": \"right\", \"dx\": 4, \"dy\": -8}, \"encoding\": {\"text\": {\"field\": \"Title\", \"type\": \"nominal\"}, \"x\": {\"field\": \"Rotten_Tomatoes_Rating\", \"type\": \"quantitative\"}, \"y\": {\"field\": \"IMDB_Rating\", \"type\": \"quantitative\"}}, \"transform\": [{\"filter\": {\"or\": [{\"param\": \"param_15\"}, {\"param\": \"param_16\"}]}}]}], \"data\": {\"url\": \"https://cdn.jsdelivr.net/npm/vega-datasets@1/data/movies.json\"}, \"height\": 450, \"params\": [{\"name\": \"param_15\", \"select\": {\"type\": \"point\", \"nearest\": true, \"on\": \"mouseover\"}, \"views\": [\"view_11\"]}, {\"name\": \"param_16\", \"select\": {\"type\": \"point\"}, \"views\": [\"view_11\"]}], \"width\": 600, \"$schema\": \"https://vega.github.io/schema/vega-lite/v5.20.1.json\"}, {\"mode\": \"vega-lite\"});\n",
       "</script>"
      ],
      "text/plain": [
       "alt.LayerChart(...)"
      ]
     },
     "execution_count": 19,
     "metadata": {},
     "output_type": "execute_result"
    }
   ],
   "source": [
    "hover = alt.selection_single(     \n",
    "    on='mouseover',  # selecionar ao passar o mouse\n",
    "    nearest=True,    # seleciona o ponto mais próximo do cursor do mouse\n",
    "    empty='none'     # a seleção vazia não deve corresponder a nada\n",
    ")\n",
    "\n",
    "click = alt.selection_multi(\n",
    "    empty='none' # seleção vazia sem pontos\n",
    ")\n",
    "\n",
    "# codificações de gráfico de dispersão compartilhadas por todas as marcas\n",
    "plot = alt.Chart().mark_circle().encode(\n",
    "    x='Rotten_Tomatoes_Rating:Q',\n",
    "    y='IMDB_Rating:Q'\n",
    ")\n",
    "\n",
    "# base comum para novas camadas\n",
    "base = plot.transform_filter(\n",
    "    hover | click # filtrar para os pontos de qualquer seleção\n",
    ")\n",
    "\n",
    "# pontos do gráfico de dispersão de camadas, anotações de halo e etiquetas de título\n",
    "alt.layer(\n",
    "    plot.add_selection(hover).add_selection(click),\n",
    "    base.mark_point(size=100, stroke='firebrick', strokeWidth=1),\n",
    "    base.mark_text(dx=4, dy=-8, align='right', stroke='white', strokeWidth=2).encode(text='Title:N'),\n",
    "    base.mark_text(dx=4, dy=-8, align='right').encode(text='Title:N'),\n",
    "    data=movies\n",
    ").properties(\n",
    "    width=600,\n",
    "    height=450\n",
    ")"
   ]
  },
  {
   "cell_type": "markdown",
   "id": "74be00d1",
   "metadata": {
    "id": "bHcs8_-H2qvE"
   },
   "source": [
    "\n",
    "O exemplo acima adiciona três novas camadas ao gráfico de dispersão: uma  anotação circular, texto branco para fornecer um fundo legível, e texto preto exibindo o título do filme. Além disso, esse exemplo usa duas seleções em conjunto:\n",
    "\n",
    "1. Uma seleção única (`hover`), que inclui `nearest=True` para selecionar automaticamente o ponto de dados mais próximo conforme o mouse se move.\n",
    "2. Uma seleção múltipla (`click`), que permite criar seleções persistentes usando Shift + clique.\n",
    "\n",
    "\n",
    "\n",
    "Ambas as seleções incluem a configuração `empty='none'` para indicar que nenhum ponto deve ser incluído se a seleção estiver vazia. Essas seleções são então combinadas em um único predicado de filtro — o operador lógico _ou_ entre `hover` e `click` — para incluir os pontos pertencentes a _qualquer uma_ das seleções. Esse predicado é usado para filtrar as novas camadas e exibir anotações e rótulos apenas para os pontos selecionados.\n",
    "\n",
    "Usando seleções e camadas, podemos criar diversos designs para exibir detalhes sob demanda! Por exemplo, aqui está uma série temporal em escala logarítmica com os preços de ações de tecnologia, anotada com uma linha-guia e rótulos para a data mais próxima do cursor do mouse:"
   ]
  },
  {
   "cell_type": "code",
   "execution_count": 20,
   "id": "318bfe3a",
   "metadata": {
    "colab": {
     "base_uri": "https://localhost:8080/",
     "height": 572
    },
    "id": "PCnB4Dwn2dt7",
    "outputId": "892e0bd2-6aff-4d59-8bf0-cb7326042269"
   },
   "outputs": [
    {
     "name": "stderr",
     "output_type": "stream",
     "text": [
      "C:\\Users\\elian\\AppData\\Local\\Temp\\ipykernel_29920\\2048310671.py:2: AltairDeprecationWarning: \n",
      "Deprecated since `altair=5.0.0`. Use selection_point instead.\n",
      "  label = alt.selection_single(\n",
      "C:\\Users\\elian\\AppData\\Local\\Temp\\ipykernel_29920\\2048310671.py:27: AltairDeprecationWarning: \n",
      "Deprecated since `altair=5.0.0`. Use add_params instead.\n",
      "  ).add_selection(label),\n"
     ]
    },
    {
     "data": {
      "text/html": [
       "\n",
       "<style>\n",
       "  #altair-viz-1d8788817f3749909de63d574625e0fb.vega-embed {\n",
       "    width: 100%;\n",
       "    display: flex;\n",
       "  }\n",
       "\n",
       "  #altair-viz-1d8788817f3749909de63d574625e0fb.vega-embed details,\n",
       "  #altair-viz-1d8788817f3749909de63d574625e0fb.vega-embed details summary {\n",
       "    position: relative;\n",
       "  }\n",
       "</style>\n",
       "<div id=\"altair-viz-1d8788817f3749909de63d574625e0fb\"></div>\n",
       "<script type=\"text/javascript\">\n",
       "  var VEGA_DEBUG = (typeof VEGA_DEBUG == \"undefined\") ? {} : VEGA_DEBUG;\n",
       "  (function(spec, embedOpt){\n",
       "    let outputDiv = document.currentScript.previousElementSibling;\n",
       "    if (outputDiv.id !== \"altair-viz-1d8788817f3749909de63d574625e0fb\") {\n",
       "      outputDiv = document.getElementById(\"altair-viz-1d8788817f3749909de63d574625e0fb\");\n",
       "    }\n",
       "\n",
       "    const paths = {\n",
       "      \"vega\": \"https://cdn.jsdelivr.net/npm/vega@5?noext\",\n",
       "      \"vega-lib\": \"https://cdn.jsdelivr.net/npm/vega-lib?noext\",\n",
       "      \"vega-lite\": \"https://cdn.jsdelivr.net/npm/vega-lite@5.20.1?noext\",\n",
       "      \"vega-embed\": \"https://cdn.jsdelivr.net/npm/vega-embed@6?noext\",\n",
       "    };\n",
       "\n",
       "    function maybeLoadScript(lib, version) {\n",
       "      var key = `${lib.replace(\"-\", \"\")}_version`;\n",
       "      return (VEGA_DEBUG[key] == version) ?\n",
       "        Promise.resolve(paths[lib]) :\n",
       "        new Promise(function(resolve, reject) {\n",
       "          var s = document.createElement('script');\n",
       "          document.getElementsByTagName(\"head\")[0].appendChild(s);\n",
       "          s.async = true;\n",
       "          s.onload = () => {\n",
       "            VEGA_DEBUG[key] = version;\n",
       "            return resolve(paths[lib]);\n",
       "          };\n",
       "          s.onerror = () => reject(`Error loading script: ${paths[lib]}`);\n",
       "          s.src = paths[lib];\n",
       "        });\n",
       "    }\n",
       "\n",
       "    function showError(err) {\n",
       "      outputDiv.innerHTML = `<div class=\"error\" style=\"color:red;\">${err}</div>`;\n",
       "      throw err;\n",
       "    }\n",
       "\n",
       "    function displayChart(vegaEmbed) {\n",
       "      vegaEmbed(outputDiv, spec, embedOpt)\n",
       "        .catch(err => showError(`Javascript Error: ${err.message}<br>This usually means there's a typo in your chart specification. See the javascript console for the full traceback.`));\n",
       "    }\n",
       "\n",
       "    if(typeof define === \"function\" && define.amd) {\n",
       "      requirejs.config({paths});\n",
       "      let deps = [\"vega-embed\"];\n",
       "      require(deps, displayChart, err => showError(`Error loading script: ${err.message}`));\n",
       "    } else {\n",
       "      maybeLoadScript(\"vega\", \"5\")\n",
       "        .then(() => maybeLoadScript(\"vega-lite\", \"5.20.1\"))\n",
       "        .then(() => maybeLoadScript(\"vega-embed\", \"6\"))\n",
       "        .catch(showError)\n",
       "        .then(() => displayChart(vegaEmbed));\n",
       "    }\n",
       "  })({\"config\": {\"view\": {\"continuousWidth\": 300, \"continuousHeight\": 300}}, \"layer\": [{\"mark\": {\"type\": \"line\"}, \"encoding\": {\"color\": {\"field\": \"symbol\", \"type\": \"nominal\"}, \"x\": {\"field\": \"date\", \"type\": \"temporal\"}, \"y\": {\"field\": \"price\", \"scale\": {\"type\": \"log\"}, \"type\": \"quantitative\"}}}, {\"mark\": {\"type\": \"rule\", \"color\": \"#aaa\"}, \"encoding\": {\"x\": {\"field\": \"date\", \"type\": \"temporal\"}}, \"transform\": [{\"filter\": {\"param\": \"param_17\", \"empty\": false}}]}, {\"mark\": {\"type\": \"circle\"}, \"encoding\": {\"color\": {\"field\": \"symbol\", \"type\": \"nominal\"}, \"opacity\": {\"condition\": {\"param\": \"param_17\", \"value\": 1, \"empty\": false}, \"value\": 0}, \"x\": {\"field\": \"date\", \"type\": \"temporal\"}, \"y\": {\"field\": \"price\", \"scale\": {\"type\": \"log\"}, \"type\": \"quantitative\"}}, \"name\": \"view_12\"}, {\"mark\": {\"type\": \"text\", \"align\": \"left\", \"dx\": 5, \"dy\": -5, \"stroke\": \"white\", \"strokeWidth\": 2}, \"encoding\": {\"color\": {\"field\": \"symbol\", \"type\": \"nominal\"}, \"text\": {\"field\": \"price\", \"type\": \"quantitative\"}, \"x\": {\"field\": \"date\", \"type\": \"temporal\"}, \"y\": {\"field\": \"price\", \"scale\": {\"type\": \"log\"}, \"type\": \"quantitative\"}}, \"transform\": [{\"filter\": {\"param\": \"param_17\", \"empty\": false}}]}, {\"mark\": {\"type\": \"text\", \"align\": \"left\", \"dx\": 5, \"dy\": -5}, \"encoding\": {\"color\": {\"field\": \"symbol\", \"type\": \"nominal\"}, \"text\": {\"field\": \"price\", \"type\": \"quantitative\"}, \"x\": {\"field\": \"date\", \"type\": \"temporal\"}, \"y\": {\"field\": \"price\", \"scale\": {\"type\": \"log\"}, \"type\": \"quantitative\"}}, \"transform\": [{\"filter\": {\"param\": \"param_17\", \"empty\": false}}]}], \"data\": {\"url\": \"https://cdn.jsdelivr.net/npm/vega-datasets@1/data/stocks.csv\"}, \"height\": 400, \"params\": [{\"name\": \"param_17\", \"select\": {\"type\": \"point\", \"encodings\": [\"x\"], \"nearest\": true, \"on\": \"mouseover\"}, \"views\": [\"view_12\"]}], \"width\": 700, \"$schema\": \"https://vega.github.io/schema/vega-lite/v5.20.1.json\"}, {\"mode\": \"vega-lite\"});\n",
       "</script>"
      ],
      "text/plain": [
       "alt.LayerChart(...)"
      ]
     },
     "execution_count": 20,
     "metadata": {},
     "output_type": "execute_result"
    }
   ],
   "source": [
    "# selecione um ponto para o qual fornecer detalhes sob demanda\n",
    "label = alt.selection_single(\n",
    "    encodings=['x'], # limita a seleção ao valor do eixo x\n",
    "    on='mouseover',  # seleciona ao passar o mouse sobre os pontos\n",
    "    nearest=True,    # seleciona o ponto de dados mais próximo do cursor\n",
    "    empty='none'     # seleção vazia inclui nenhum ponto de dados\n",
    ")\n",
    "\n",
    "# define o gráfico de linha base dos preços das ações\n",
    "base = alt.Chart().mark_line().encode(\n",
    "    alt.X('date:T'),\n",
    "    alt.Y('price:Q', scale=alt.Scale(type='log')),\n",
    "    alt.Color('symbol:N')\n",
    ")\n",
    "\n",
    "alt.layer(\n",
    "    base, # gráfico de linha base\n",
    "\n",
    "    # adiciona uma marca de linha para servir como guia\n",
    "    alt.Chart().mark_rule(color='#aaa').encode(\n",
    "        x='date:T'\n",
    "    ).transform_filter(label),\n",
    "\n",
    "    # adiciona marcas circulares para os pontos de tempo selecionados, oculta os pontos não selecionados\n",
    "    base.mark_circle().encode(\n",
    "        opacity=alt.condition(label, alt.value(1), alt.value(0))\n",
    "    ).add_selection(label),\n",
    "\n",
    "    # adiciona texto com contorno branco para fornecer um fundo legível para as anotações\n",
    "    base.mark_text(align='left', dx=5, dy=-5, stroke='white', strokeWidth=2).encode(\n",
    "        text='price:Q'\n",
    "    ).transform_filter(label),\n",
    "\n",
    "    # adiciona rótulos de texto para os preços das ações\n",
    "    base.mark_text(align='left', dx=5, dy=-5).encode(\n",
    "        text='price:Q'\n",
    "    ).transform_filter(label),\n",
    "\n",
    "    data=stocks\n",
    ").properties(\n",
    "    width=700,\n",
    "    height=400\n",
    ")"
   ]
  },
  {
   "cell_type": "markdown",
   "id": "66b15010",
   "metadata": {
    "id": "0wPLPVrT2enY"
   },
   "source": [
    "_Colocando em prática o que aprendemos até agora: você consegue modificar o gráfico de dispersão de filmes acima (aquele com consulta dinâmica ao longo dos anos) para incluir uma marca de linha que exiba a média das avaliações do IMDB (ou Rotten Tomatoes) dentro do intervalo de anos selecionado?_"
   ]
  },
  {
   "cell_type": "markdown",
   "id": "859f736d",
   "metadata": {},
   "source": [
    "## Seleções &amp; Ligações, Revisitados"
   ]
  },
  {
   "cell_type": "markdown",
   "id": "1e77bc4f",
   "metadata": {},
   "source": [
    "Anteriormente neste trabalho, vimos um exemplo de _seleções &amp; ligações_: usando um histograma de consulta dinâmica para destacar pontos em um gráfico de dispersão de classificação de filmes. Aqui, visitaremos alguns exemplos adicionais envolvendo seleções vinculadas.\n",
    "\n",
    "Voltando ao conjunto de dados `cars`, podemos utilizar o operador `repeat` para construir uma [matriz de dispersão (SPLOM)](https://en.wikipedia.org/wiki/Scatter_plot#Scatterplot_matrices) que mostra associações entre quilometragem, aceleração e potência. Podemos definir uma seleção `intervalo` e incluí-la _dentro_ da nossa especificação de gráfico de dispersão repetido para permitir seleções associadas entre todos os gráficos.\n",
    "\n",
    "_Clique e arraste em qualquer um dos gráficos abaixo para executar a seleção &amp; ligação!_"
   ]
  },
  {
   "cell_type": "code",
   "execution_count": 21,
   "id": "0a2761a1",
   "metadata": {},
   "outputs": [
    {
     "name": "stderr",
     "output_type": "stream",
     "text": [
      "C:\\Users\\elian\\AppData\\Local\\Temp\\ipykernel_29920\\3292460631.py:5: AltairDeprecationWarning: \n",
      "Deprecated since `altair=5.0.0`. Use add_params instead.\n",
      "  alt.Chart(cars).mark_circle().add_selection(\n"
     ]
    },
    {
     "data": {
      "text/html": [
       "\n",
       "<style>\n",
       "  #altair-viz-d1d70cf25fa94a478ea127d120a60027.vega-embed {\n",
       "    width: 100%;\n",
       "    display: flex;\n",
       "  }\n",
       "\n",
       "  #altair-viz-d1d70cf25fa94a478ea127d120a60027.vega-embed details,\n",
       "  #altair-viz-d1d70cf25fa94a478ea127d120a60027.vega-embed details summary {\n",
       "    position: relative;\n",
       "  }\n",
       "</style>\n",
       "<div id=\"altair-viz-d1d70cf25fa94a478ea127d120a60027\"></div>\n",
       "<script type=\"text/javascript\">\n",
       "  var VEGA_DEBUG = (typeof VEGA_DEBUG == \"undefined\") ? {} : VEGA_DEBUG;\n",
       "  (function(spec, embedOpt){\n",
       "    let outputDiv = document.currentScript.previousElementSibling;\n",
       "    if (outputDiv.id !== \"altair-viz-d1d70cf25fa94a478ea127d120a60027\") {\n",
       "      outputDiv = document.getElementById(\"altair-viz-d1d70cf25fa94a478ea127d120a60027\");\n",
       "    }\n",
       "\n",
       "    const paths = {\n",
       "      \"vega\": \"https://cdn.jsdelivr.net/npm/vega@5?noext\",\n",
       "      \"vega-lib\": \"https://cdn.jsdelivr.net/npm/vega-lib?noext\",\n",
       "      \"vega-lite\": \"https://cdn.jsdelivr.net/npm/vega-lite@5.20.1?noext\",\n",
       "      \"vega-embed\": \"https://cdn.jsdelivr.net/npm/vega-embed@6?noext\",\n",
       "    };\n",
       "\n",
       "    function maybeLoadScript(lib, version) {\n",
       "      var key = `${lib.replace(\"-\", \"\")}_version`;\n",
       "      return (VEGA_DEBUG[key] == version) ?\n",
       "        Promise.resolve(paths[lib]) :\n",
       "        new Promise(function(resolve, reject) {\n",
       "          var s = document.createElement('script');\n",
       "          document.getElementsByTagName(\"head\")[0].appendChild(s);\n",
       "          s.async = true;\n",
       "          s.onload = () => {\n",
       "            VEGA_DEBUG[key] = version;\n",
       "            return resolve(paths[lib]);\n",
       "          };\n",
       "          s.onerror = () => reject(`Error loading script: ${paths[lib]}`);\n",
       "          s.src = paths[lib];\n",
       "        });\n",
       "    }\n",
       "\n",
       "    function showError(err) {\n",
       "      outputDiv.innerHTML = `<div class=\"error\" style=\"color:red;\">${err}</div>`;\n",
       "      throw err;\n",
       "    }\n",
       "\n",
       "    function displayChart(vegaEmbed) {\n",
       "      vegaEmbed(outputDiv, spec, embedOpt)\n",
       "        .catch(err => showError(`Javascript Error: ${err.message}<br>This usually means there's a typo in your chart specification. See the javascript console for the full traceback.`));\n",
       "    }\n",
       "\n",
       "    if(typeof define === \"function\" && define.amd) {\n",
       "      requirejs.config({paths});\n",
       "      let deps = [\"vega-embed\"];\n",
       "      require(deps, displayChart, err => showError(`Error loading script: ${err.message}`));\n",
       "    } else {\n",
       "      maybeLoadScript(\"vega\", \"5\")\n",
       "        .then(() => maybeLoadScript(\"vega-lite\", \"5.20.1\"))\n",
       "        .then(() => maybeLoadScript(\"vega-embed\", \"6\"))\n",
       "        .catch(showError)\n",
       "        .then(() => displayChart(vegaEmbed));\n",
       "    }\n",
       "  })({\"config\": {\"view\": {\"continuousWidth\": 300, \"continuousHeight\": 300}}, \"repeat\": {\"column\": [\"Acceleration\", \"Horsepower\", \"Miles_per_Gallon\"], \"row\": [\"Miles_per_Gallon\", \"Horsepower\", \"Acceleration\"]}, \"spec\": {\"data\": {\"url\": \"https://cdn.jsdelivr.net/npm/vega-datasets@1/data/cars.json\"}, \"mark\": {\"type\": \"circle\"}, \"encoding\": {\"color\": {\"condition\": {\"param\": \"param_18\", \"field\": \"Cylinders\", \"type\": \"ordinal\"}, \"value\": \"grey\"}, \"opacity\": {\"condition\": {\"param\": \"param_18\", \"value\": 0.8}, \"value\": 0.1}, \"x\": {\"field\": {\"repeat\": \"column\"}, \"type\": \"quantitative\"}, \"y\": {\"field\": {\"repeat\": \"row\"}, \"type\": \"quantitative\"}}, \"height\": 140, \"name\": \"view_13\", \"width\": 140}, \"params\": [{\"name\": \"param_18\", \"select\": {\"type\": \"interval\", \"resolve\": \"global\"}, \"views\": [\"view_13_child__row_Miles_per_Galloncolumn_Acceleration\", \"view_13_child__row_Miles_per_Galloncolumn_Horsepower\", \"view_13_child__row_Miles_per_Galloncolumn_Miles_per_Gallon\", \"view_13_child__row_Horsepowercolumn_Acceleration\", \"view_13_child__row_Horsepowercolumn_Horsepower\", \"view_13_child__row_Horsepowercolumn_Miles_per_Gallon\", \"view_13_child__row_Accelerationcolumn_Acceleration\", \"view_13_child__row_Accelerationcolumn_Horsepower\", \"view_13_child__row_Accelerationcolumn_Miles_per_Gallon\"]}], \"$schema\": \"https://vega.github.io/schema/vega-lite/v5.20.1.json\"}, {\"mode\": \"vega-lite\"});\n",
       "</script>"
      ],
      "text/plain": [
       "alt.RepeatChart(...)"
      ]
     },
     "execution_count": 21,
     "metadata": {},
     "output_type": "execute_result"
    }
   ],
   "source": [
    "brush = alt.selection_interval(\n",
    "    resolve='global' # resolver todas as seleções para uma única instância global\n",
    ")\n",
    "\n",
    "alt.Chart(cars).mark_circle().add_selection(\n",
    "    brush\n",
    ").encode(\n",
    "    alt.X(alt.repeat('column'), type='quantitative'),\n",
    "    alt.Y(alt.repeat('row'), type='quantitative'),\n",
    "    color=alt.condition(brush, 'Cylinders:O', alt.value('grey')),\n",
    "    opacity=alt.condition(brush, alt.value(0.8), alt.value(0.1))\n",
    ").properties(\n",
    "    width=140,\n",
    "    height=140\n",
    ").repeat(\n",
    "    column=['Acceleration', 'Horsepower', 'Miles_per_Gallon'],\n",
    "    row=['Miles_per_Gallon', 'Horsepower', 'Acceleration']\n",
    ")"
   ]
  },
  {
   "cell_type": "markdown",
   "id": "1fb24ccf",
   "metadata": {},
   "source": [
    "Note acima a utilização de `resolve='global'` na seleção `interval`. A configuração padrão de `'global'` indica que em todos os gráficos apenas uma seleção pode estar ativa por vez. No entanto, em alguns casos, podemos querer definir seleções em múltiplos gráficos e combinar os resultados. Se utilizarmos `resolve='union'`, a seleção será a _união_ de todos as seleções: se um ponto residir em qualquer uma delas, ele será selecionado. Alternativamente, se utilizarmos `resolve='intersect'`, a seleção consistirá na _interseção_ de todos as seleções: apenas os pontos que residem dentro de todas as seleções serão selecionados.\n",
    "\n",
    "_Tente definir o parâmetro `resolve` como `union` e `intersect` e veja como isso muda a lógica de seleção resultante._"
   ]
  },
  {
   "cell_type": "markdown",
   "id": "b2a48091",
   "metadata": {},
   "source": [
    "### Filtragem cruzada\n",
    "\n",
    "Todos os exemplos de seleção &amp; ligação que vimos utilizam codificações condicionais, por exemplo, para alterar os valores de opacidade em resposta a uma seleção. Outra opção é usar uma seleção definida em uma visualização para _filtrar_ o conteúdo de outra visualização.\n",
    "\n",
    "Vamos construir uma coleção de histogramas para o conjunto de dados voos (_flights_): atraso (_delay_) de chegada (quão cedo ou tarde um vôo chega, em minutos), distância (_distance_) voada (em milhas), e tempo (_time_) de partida (hora do dia). Usaremos o operador `repeat` para criar os histogramas, e adicionaremos uma seleção `interval` para o eixo `x` com seleções via interseção.\n",
    "\n",
    "Em particular, cada histograma consistirá em duas camadas: uma camada de fundo cinzento e uma camada de primeiro plano azul, com a camada de primeiro plano filtrada pela nossa interseção de seleções. O resultado é uma interação de _filtragem cruzada_ entre os três gráficos!\n",
    "\n",
    "_Arraste os intervalos das seleções nos gráficos abaixo. À medida que seleciona voos com atrasos de chegada mais longos ou mais curtos, como é que as distribuições de distância e tempo respondem?_"
   ]
  },
  {
   "cell_type": "code",
   "execution_count": 22,
   "id": "a6132682",
   "metadata": {},
   "outputs": [
    {
     "name": "stderr",
     "output_type": "stream",
     "text": [
      "C:\\Users\\elian\\AppData\\Local\\Temp\\ipykernel_29920\\4166571633.py:15: AltairDeprecationWarning: \n",
      "Deprecated since `altair=5.0.0`. Use add_params instead.\n",
      "  hist.add_selection(brush).encode(color=alt.value('lightgrey')),\n"
     ]
    },
    {
     "data": {
      "text/html": [
       "\n",
       "<style>\n",
       "  #altair-viz-520ff9a4a1fb4546bedf4865d7544352.vega-embed {\n",
       "    width: 100%;\n",
       "    display: flex;\n",
       "  }\n",
       "\n",
       "  #altair-viz-520ff9a4a1fb4546bedf4865d7544352.vega-embed details,\n",
       "  #altair-viz-520ff9a4a1fb4546bedf4865d7544352.vega-embed details summary {\n",
       "    position: relative;\n",
       "  }\n",
       "</style>\n",
       "<div id=\"altair-viz-520ff9a4a1fb4546bedf4865d7544352\"></div>\n",
       "<script type=\"text/javascript\">\n",
       "  var VEGA_DEBUG = (typeof VEGA_DEBUG == \"undefined\") ? {} : VEGA_DEBUG;\n",
       "  (function(spec, embedOpt){\n",
       "    let outputDiv = document.currentScript.previousElementSibling;\n",
       "    if (outputDiv.id !== \"altair-viz-520ff9a4a1fb4546bedf4865d7544352\") {\n",
       "      outputDiv = document.getElementById(\"altair-viz-520ff9a4a1fb4546bedf4865d7544352\");\n",
       "    }\n",
       "\n",
       "    const paths = {\n",
       "      \"vega\": \"https://cdn.jsdelivr.net/npm/vega@5?noext\",\n",
       "      \"vega-lib\": \"https://cdn.jsdelivr.net/npm/vega-lib?noext\",\n",
       "      \"vega-lite\": \"https://cdn.jsdelivr.net/npm/vega-lite@5.20.1?noext\",\n",
       "      \"vega-embed\": \"https://cdn.jsdelivr.net/npm/vega-embed@6?noext\",\n",
       "    };\n",
       "\n",
       "    function maybeLoadScript(lib, version) {\n",
       "      var key = `${lib.replace(\"-\", \"\")}_version`;\n",
       "      return (VEGA_DEBUG[key] == version) ?\n",
       "        Promise.resolve(paths[lib]) :\n",
       "        new Promise(function(resolve, reject) {\n",
       "          var s = document.createElement('script');\n",
       "          document.getElementsByTagName(\"head\")[0].appendChild(s);\n",
       "          s.async = true;\n",
       "          s.onload = () => {\n",
       "            VEGA_DEBUG[key] = version;\n",
       "            return resolve(paths[lib]);\n",
       "          };\n",
       "          s.onerror = () => reject(`Error loading script: ${paths[lib]}`);\n",
       "          s.src = paths[lib];\n",
       "        });\n",
       "    }\n",
       "\n",
       "    function showError(err) {\n",
       "      outputDiv.innerHTML = `<div class=\"error\" style=\"color:red;\">${err}</div>`;\n",
       "      throw err;\n",
       "    }\n",
       "\n",
       "    function displayChart(vegaEmbed) {\n",
       "      vegaEmbed(outputDiv, spec, embedOpt)\n",
       "        .catch(err => showError(`Javascript Error: ${err.message}<br>This usually means there's a typo in your chart specification. See the javascript console for the full traceback.`));\n",
       "    }\n",
       "\n",
       "    if(typeof define === \"function\" && define.amd) {\n",
       "      requirejs.config({paths});\n",
       "      let deps = [\"vega-embed\"];\n",
       "      require(deps, displayChart, err => showError(`Error loading script: ${err.message}`));\n",
       "    } else {\n",
       "      maybeLoadScript(\"vega\", \"5\")\n",
       "        .then(() => maybeLoadScript(\"vega-lite\", \"5.20.1\"))\n",
       "        .then(() => maybeLoadScript(\"vega-embed\", \"6\"))\n",
       "        .catch(showError)\n",
       "        .then(() => displayChart(vegaEmbed));\n",
       "    }\n",
       "  })({\"config\": {\"view\": {\"continuousWidth\": 300, \"continuousHeight\": 300, \"stroke\": \"transparent\"}}, \"repeat\": {\"row\": [\"delay\", \"distance\", \"time\"]}, \"spec\": {\"layer\": [{\"mark\": {\"type\": \"bar\"}, \"encoding\": {\"color\": {\"value\": \"lightgrey\"}, \"x\": {\"axis\": {\"format\": \"d\", \"titleAnchor\": \"start\"}, \"bin\": {\"maxbins\": 100, \"minstep\": 1}, \"field\": {\"repeat\": \"row\"}, \"type\": \"quantitative\"}, \"y\": {\"aggregate\": \"count\", \"title\": null, \"type\": \"quantitative\"}}, \"name\": \"view_14\"}, {\"mark\": {\"type\": \"bar\"}, \"encoding\": {\"x\": {\"axis\": {\"format\": \"d\", \"titleAnchor\": \"start\"}, \"bin\": {\"maxbins\": 100, \"minstep\": 1}, \"field\": {\"repeat\": \"row\"}, \"type\": \"quantitative\"}, \"y\": {\"aggregate\": \"count\", \"title\": null, \"type\": \"quantitative\"}}, \"transform\": [{\"filter\": {\"param\": \"param_19\"}}]}], \"height\": 100, \"width\": 900}, \"data\": {\"url\": \"https://cdn.jsdelivr.net/npm/vega-datasets@1/data/flights-5k.json\"}, \"params\": [{\"name\": \"param_19\", \"select\": {\"type\": \"interval\", \"encodings\": [\"x\"], \"resolve\": \"intersect\"}, \"views\": [\"child__row_delay_view_14\", \"child__row_distance_view_14\", \"child__row_time_view_14\"]}], \"transform\": [{\"calculate\": \"datum.delay < 180 ? datum.delay : 180\", \"as\": \"delay\"}, {\"calculate\": \"hours(datum.date) + minutes(datum.date) / 60\", \"as\": \"time\"}], \"$schema\": \"https://vega.github.io/schema/vega-lite/v5.20.1.json\"}, {\"mode\": \"vega-lite\"});\n",
       "</script>"
      ],
      "text/plain": [
       "alt.RepeatChart(...)"
      ]
     },
     "execution_count": 22,
     "metadata": {},
     "output_type": "execute_result"
    }
   ],
   "source": [
    "brush = alt.selection_interval(\n",
    "    encodings=['x'],\n",
    "    resolve='intersect'\n",
    ");\n",
    "\n",
    "hist = alt.Chart().mark_bar().encode(\n",
    "    alt.X(alt.repeat('row'), type='quantitative',\n",
    "        bin=alt.Bin(maxbins=100, minstep=1), # até 100 divisórias\n",
    "        axis=alt.Axis(format='d', titleAnchor='start') # formato inteiro, título alinhado à esquerda\n",
    "    ),\n",
    "    alt.Y('count():Q', title=None) # eixo y sem título\n",
    ")\n",
    "  \n",
    "alt.layer(\n",
    "    hist.add_selection(brush).encode(color=alt.value('lightgrey')),\n",
    "    hist.transform_filter(brush)\n",
    ").properties(\n",
    "    width=900,\n",
    "    height=100\n",
    ").repeat(\n",
    "    row=['delay', 'distance', 'time'],\n",
    "    data=flights\n",
    ").transform_calculate(\n",
    "    delay='datum.delay < 180 ? datum.delay : 180', # atraso de resposta > 3 horas\n",
    "    time='hours(datum.date) + minutes(datum.date) / 60' # horas fracionadas\n",
    ").configure_view(\n",
    "    stroke='transparent' # sem outline\n",
    ")"
   ]
  },
  {
   "cell_type": "markdown",
   "id": "25687103",
   "metadata": {},
   "source": [
    "_Ao fazer uma filtragem cruzada, pode-se observar que os vôos atrasados têm maior probabilidade de partir a horas mais tardias. Este fenômeno é frequentemente familiar aos passageiros: um atraso pode propagar-se ao longo do dia, afetando as viagens subsequentes nesse avião. Para ter maior probabilidade de chegar na hora, reserve um vôo cedo!_\n",
    "\n",
    "A combinação de múltiplas visualizações e seleções interativas pode permitir formas valiosas de raciocínio multidimensional, transformando até histogramas básicos em poderosos dispositivos de entrada para formular perguntas sobre um conjunto de dados!"
   ]
  },
  {
   "cell_type": "markdown",
   "id": "1e73a24a",
   "metadata": {},
   "source": [
    "## Resumo"
   ]
  },
  {
   "cell_type": "markdown",
   "id": "1e78341d",
   "metadata": {},
   "source": [
    "Para mais informações sobre as opções de interação suportadas no Altair, consulte a [documentação sobre seleção interativa do Altair](https://altair-viz.github.io/user_guide/interactions.html). Para detalhes sobre a personalização de manipuladores de eventos, por exemplo, para compor múltiplas técnicas de interação ou oferecer suporte à entrada por toque em dispositivos móveis, veja a [documentação sobre seleção do Vega-Lite](https://vega.github.io/vega-lite/docs/selection.html).\n",
    "\n",
    "Interessado em aprender mais?\n",
    "\n",
    "- A abstração de _seleção_ foi introduzida no artigo [Vega-Lite: Uma Gramática de Gráficos Interativos](http://idl.cs.washington.edu/papers/vega-lite/), de Satyanarayan, Moritz, Wongsuphasawat, &amp; Heer.\n",
    "- O sistema PRIM-9 (para projeção, rotação, isolamento e mascaramento em até 9 dimensões) é uma das primeiras ferramentas de visualização interativa, desenvolvido no início dos anos 1970 por Fisherkeller, Tukey, &amp; Friedman. [Um vídeo de demonstração sobreviveu!](https://www.youtube.com/watch?v=B7XoW2qiFUA)\n",
    "- O conceito de _brushing &amp; linking_ foi formalizado por Becker, Cleveland, &amp; Wilks no artigo de 1987 [Gráficos Dinâmicos para a Análise de Dados](https://scholar.google.com/scholar?cluster=14817303117298653693).\n",
    "- Para um resumo abrangente das técnicas de interação para visualização, veja [Dinâmicas Interativas para Análise Visual](https://queue.acm.org/detail.cfm?id=2146416) de Heer &amp; Shneiderman.\n",
    "- Por fim, para um estudo sobre o que torna a interação eficaz, leia o clássico artigo [Interfaces de Manipulação Direta](https://scholar.google.com/scholar?cluster=15702972136892195211) de Hutchins, Hollan, &amp; Norman."
   ]
  },
  {
   "cell_type": "markdown",
   "id": "073b74a2",
   "metadata": {},
   "source": [
    "#### Apêndice: Na Representação do Tempo\n",
    "\n",
    "Anteriormente, observamos um pequeno aumento no número de filmes em 1969 ou 1970. De onde vem esse aumento? E por que 1969 _ou_ 1970? A resposta decorre de uma combinação de dados ausentes e da forma como o seu computador representa o tempo.\n",
    "\n",
    "Internamente, datas e horários são representados em relação à [época UNIX](https://en.wikipedia.org/wiki/Unix_time), na qual o tempo \"zero\" corresponde exatamente à meia-noite de 1º de janeiro de 1970 no [horário UTC](https://en.wikipedia.org/wiki/Coordinated_Universal_Time), que segue ao longo do [meridiano primário](https://en.wikipedia.org/wiki/Prime_meridian). Acontece que alguns filmes possuem datas de lançamento ausentes (`null`). Esses valores `null` são interpretados como tempo `0`, e, portanto, mapeados para 1º de janeiro de 1970 no horário UTC. Se você estiver nas Américas &ndash; e, portanto, em fusos horários \"anteriores\" &ndash;, esse instante exato corresponde a um horário anterior em 31 de dezembro de 1969 no seu fuso horário local. Por outro lado, se você estiver próximo ou a leste do meridiano principal, a data no seu horário local será 1º de janeiro de 1970.\n",
    "\n",
    "A lição? Sempre desconfie dos seus dados e esteja atento ao fato de que a forma como os dados são representados (seja como datas e horários, números de ponto flutuante, latitudes e longitudes, _etc._) pode, às vezes, introduzir artefatos que afetam a análise!"
   ]
  }
 ],
 "metadata": {
  "kernelspec": {
   "display_name": "Python 3",
   "language": "python",
   "name": "python3"
  },
  "language_info": {
   "codemirror_mode": {
    "name": "ipython",
    "version": 3
   },
   "file_extension": ".py",
   "mimetype": "text/x-python",
   "name": "python",
   "nbconvert_exporter": "python",
   "pygments_lexer": "ipython3",
   "version": "3.11.9"
  }
 },
 "nbformat": 4,
 "nbformat_minor": 5
}
